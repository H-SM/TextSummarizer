{
 "cells": [
  {
   "cell_type": "code",
   "execution_count": 1,
   "metadata": {},
   "outputs": [],
   "source": [
    "import spacy \n",
    "from spacy.lang.en.stop_words import STOP_WORDS\n",
    "from string import punctuation"
   ]
  },
  {
   "cell_type": "code",
   "execution_count": 26,
   "metadata": {},
   "outputs": [
    {
     "name": "stdout",
     "output_type": "stream",
     "text": [
      "['using', 'with', 'never', 'thence', 'within', 'who', 'fifteen', 'meanwhile', 'done', 'nor', 'for', 'nobody', 'across', 'top', 'after', 're', 'upon', 'former', 'made', 'very', 'whose', 'another', 'although', 'well', 'becomes', 'here', 'also', 'this', 'did', '‘s', 'noone', 'ours', 'four', 'enough', 'his', 'she', 'nevertheless', '’d', 'call', 'doing', '‘d', 'thus', 'twenty', 'against', 'whatever', \"'ve\", 'or', '‘ve', 'two', 'other', 'few', 'whole', 'become', 'they', 'front', 'cannot', 'next', 'thru', 'whenever', 'around', 'afterwards', 'either', 'a', 'ten', 'forty', 'behind', 'sixty', 'them', \"n't\", 'their', 'whom', 'twelve', 'thereby', \"'ll\", 'even', 'then', '‘re', 'beforehand', 'just', 'make', 'name', 'everywhere', 'above', 'seem', 'herself', 'unless', 'sometimes', 'least', 'alone', 'it', 'anyway', '’re', 'n’t', 'however', 'you', 'mine', 'down', 'to', 'thereafter', \"'re\", 'every', 'back', 'on', 'hereafter', 'own', 'regarding', 'those', 'an', 'were', 'what', '‘ll', 'quite', 'along', 'my', 'several', 'whereafter', 'towards', 'various', 'each', 'except', 'during', 'less', 'through', 'somehow', 'please', 'i', 'any', 'herein', 'therein', 'when', 'three', 'under', 'hence', \"'s\", 'amount', 'besides', 'put', 'seeming', 'say', 'became', 'wherever', 'otherwise', 'all', 'over', 'should', 'toward', 'already', 'between', 'still', 'but', 'eight', 'else', '’ll', 'someone', \"'m\", 'why', 'us', 'bottom', 'hereby', 'though', 'show', 'both', 'our', 'six', 'because', 'further', 'empty', 'due', 'none', 'that', 'no', 'now', 'than', 'first', 'myself', 'rather', 'last', 'as', 'again', 'while', 'might', 'often', 'such', 'has', 'others', 'n‘t', 'of', 'throughout', 'see', 'somewhere', 'up', 'latter', 'your', 'really', 'in', 'anyhow', 'take', 'nine', 'ourselves', 'serious', 'been', 'neither', 'moreover', 'will', 'move', 'yet', 'whereas', 'per', '‘m', 'many', 'we', 'where', 'eleven', 'anything', 'out', 'whither', 'something', 'by', 'into', 'yours', 'how', 'nowhere', 'five', 'thereupon', 'among', 'go', 'formerly', 'becoming', 'get', 'itself', 'mostly', 'would', 'being', 'full', 'and', 'until', 'almost', 'part', 'hundred', 'hereupon', 'beside', 'before', 'so', 'everyone', 'side', 'perhaps', 'amongst', '’s', 'anyone', 'via', 'together', 'only', 'can', 'himself', 'her', 'third', 'latterly', 'its', 'below', 'namely', 'could', 'be', 'do', 'keep', 'beyond', 'about', 'without', 'too', 'yourselves', 'give', 'must', 'off', 'much', 'hers', 'used', 'most', 'wherein', 'there', \"'d\", 'themselves', 'does', 'may', 'always', 'sometime', 'yourself', 'everything', 'since', 'one', 'these', '’m', 'are', 'ever', 'whereupon', 'more', 'am', 'seems', 'therefore', 'nothing', 'is', 'whether', 'which', 'elsewhere', 'the', 'me', 'he', 'from', 'whence', 'fifty', 'had', 'not', 'was', 'anywhere', 'some', 'ca', 'indeed', 'same', 'have', '’ve', 'at', 'onto', 'once', 'whereby', 'him', 'whoever', 'if', 'seemed']\n"
     ]
    }
   ],
   "source": [
    "stopwords = STOP_WORDS\n",
    "print(list(stopwords)) "
   ]
  },
  {
   "cell_type": "code",
   "execution_count": 3,
   "metadata": {},
   "outputs": [],
   "source": [
    "nlp = spacy.load('en_core_web_sm')"
   ]
  },
  {
   "cell_type": "code",
   "execution_count": 4,
   "metadata": {},
   "outputs": [],
   "source": [
    "text = \"\"\"\n",
    "In machine learning, a neural network (also artificial neural network or neural net, abbreviated ANN or NN) is a model inspired by the neuronal organization found in the biological neural networks in animal brains.[1][2]\n",
    "\n",
    "An ANN is made of connected units or nodes called artificial neurons, which loosely model the neurons in a brain. These are connected by edges, which model the synapses in a brain. An artificial neuron receives signals from connected neurons, then processes them and sends a signal to other connected neurons. The \"signal\" is a real number, and the output of each neuron is computed by some non-linear function of the sum of its inputs, called the activation function. Neurons and edges typically have a weight that adjusts as learning proceeds. The weight increases or decreases the strength of the signal at a connection.\n",
    "\n",
    "Typically, neurons are aggregated into layers. Different layers may perform different transformations on their inputs. Signals travel from the first layer (the input layer) to the last layer (the output layer), possibly passing through multiple intermediate layers (hidden layers). A network is typically called a deep neural network if it has at least 2 hidden layers.[3]\n",
    "\n",
    "Artificial neural networks are used for predictive modeling, adaptive control, and other applications where they can be trained via a dataset. They are also used to solve problems in artificial intelligence. Networks can learn from experience, and can derive conclusions from a complex and seemingly unrelated set of information.\n",
    "\n",
    "Neural networks are typically trained through empirical risk minimization. This method is based on the idea of optimizing the network's parameters to minimize the difference, or empirical risk, between the predicted output and the actual target values in a given dataset.[4] Gradient based methods such as backpropagation are usually used to estimate the parameters of the network.[4] During the training phase, ANNs learn from labeled training data by iteratively updating their parameters to minimize a defined loss function.[5] This method allows the network to generalize to unseen data.\n",
    "\"\"\""
   ]
  },
  {
   "cell_type": "code",
   "execution_count": 5,
   "metadata": {},
   "outputs": [],
   "source": [
    "doc = nlp(text)"
   ]
  },
  {
   "cell_type": "code",
   "execution_count": 6,
   "metadata": {},
   "outputs": [
    {
     "data": {
      "text/plain": [
       "\n",
       "In machine learning, a neural network (also artificial neural network or neural net, abbreviated ANN or NN) is a model inspired by the neuronal organization found in the biological neural networks in animal brains.[1][2]\n",
       "\n",
       "An ANN is made of connected units or nodes called artificial neurons, which loosely model the neurons in a brain. These are connected by edges, which model the synapses in a brain. An artificial neuron receives signals from connected neurons, then processes them and sends a signal to other connected neurons. The \"signal\" is a real number, and the output of each neuron is computed by some non-linear function of the sum of its inputs, called the activation function. Neurons and edges typically have a weight that adjusts as learning proceeds. The weight increases or decreases the strength of the signal at a connection.\n",
       "\n",
       "Typically, neurons are aggregated into layers. Different layers may perform different transformations on their inputs. Signals travel from the first layer (the input layer) to the last layer (the output layer), possibly passing through multiple intermediate layers (hidden layers). A network is typically called a deep neural network if it has at least 2 hidden layers.[3]\n",
       "\n",
       "Artificial neural networks are used for predictive modeling, adaptive control, and other applications where they can be trained via a dataset. They are also used to solve problems in artificial intelligence. Networks can learn from experience, and can derive conclusions from a complex and seemingly unrelated set of information.\n",
       "\n",
       "Neural networks are typically trained through empirical risk minimization. This method is based on the idea of optimizing the network's parameters to minimize the difference, or empirical risk, between the predicted output and the actual target values in a given dataset.[4] Gradient based methods such as backpropagation are usually used to estimate the parameters of the network.[4] During the training phase, ANNs learn from labeled training data by iteratively updating their parameters to minimize a defined loss function.[5] This method allows the network to generalize to unseen data."
      ]
     },
     "execution_count": 6,
     "metadata": {},
     "output_type": "execute_result"
    }
   ],
   "source": [
    "doc"
   ]
  },
  {
   "cell_type": "code",
   "execution_count": 7,
   "metadata": {},
   "outputs": [
    {
     "name": "stdout",
     "output_type": "stream",
     "text": [
      "['\\n', 'In', 'machine', 'learning', ',', 'a', 'neural', 'network', '(', 'also', 'artificial', 'neural', 'network', 'or', 'neural', 'net', ',', 'abbreviated', 'ANN', 'or', 'NN', ')', 'is', 'a', 'model', 'inspired', 'by', 'the', 'neuronal', 'organization', 'found', 'in', 'the', 'biological', 'neural', 'networks', 'in', 'animal', 'brains.[1][2', ']', '\\n\\n', 'An', 'ANN', 'is', 'made', 'of', 'connected', 'units', 'or', 'nodes', 'called', 'artificial', 'neurons', ',', 'which', 'loosely', 'model', 'the', 'neurons', 'in', 'a', 'brain', '.', 'These', 'are', 'connected', 'by', 'edges', ',', 'which', 'model', 'the', 'synapses', 'in', 'a', 'brain', '.', 'An', 'artificial', 'neuron', 'receives', 'signals', 'from', 'connected', 'neurons', ',', 'then', 'processes', 'them', 'and', 'sends', 'a', 'signal', 'to', 'other', 'connected', 'neurons', '.', 'The', '\"', 'signal', '\"', 'is', 'a', 'real', 'number', ',', 'and', 'the', 'output', 'of', 'each', 'neuron', 'is', 'computed', 'by', 'some', 'non', '-', 'linear', 'function', 'of', 'the', 'sum', 'of', 'its', 'inputs', ',', 'called', 'the', 'activation', 'function', '.', 'Neurons', 'and', 'edges', 'typically', 'have', 'a', 'weight', 'that', 'adjusts', 'as', 'learning', 'proceeds', '.', 'The', 'weight', 'increases', 'or', 'decreases', 'the', 'strength', 'of', 'the', 'signal', 'at', 'a', 'connection', '.', '\\n\\n', 'Typically', ',', 'neurons', 'are', 'aggregated', 'into', 'layers', '.', 'Different', 'layers', 'may', 'perform', 'different', 'transformations', 'on', 'their', 'inputs', '.', 'Signals', 'travel', 'from', 'the', 'first', 'layer', '(', 'the', 'input', 'layer', ')', 'to', 'the', 'last', 'layer', '(', 'the', 'output', 'layer', ')', ',', 'possibly', 'passing', 'through', 'multiple', 'intermediate', 'layers', '(', 'hidden', 'layers', ')', '.', 'A', 'network', 'is', 'typically', 'called', 'a', 'deep', 'neural', 'network', 'if', 'it', 'has', 'at', 'least', '2', 'hidden', 'layers.[3', ']', '\\n\\n', 'Artificial', 'neural', 'networks', 'are', 'used', 'for', 'predictive', 'modeling', ',', 'adaptive', 'control', ',', 'and', 'other', 'applications', 'where', 'they', 'can', 'be', 'trained', 'via', 'a', 'dataset', '.', 'They', 'are', 'also', 'used', 'to', 'solve', 'problems', 'in', 'artificial', 'intelligence', '.', 'Networks', 'can', 'learn', 'from', 'experience', ',', 'and', 'can', 'derive', 'conclusions', 'from', 'a', 'complex', 'and', 'seemingly', 'unrelated', 'set', 'of', 'information', '.', '\\n\\n', 'Neural', 'networks', 'are', 'typically', 'trained', 'through', 'empirical', 'risk', 'minimization', '.', 'This', 'method', 'is', 'based', 'on', 'the', 'idea', 'of', 'optimizing', 'the', 'network', \"'s\", 'parameters', 'to', 'minimize', 'the', 'difference', ',', 'or', 'empirical', 'risk', ',', 'between', 'the', 'predicted', 'output', 'and', 'the', 'actual', 'target', 'values', 'in', 'a', 'given', 'dataset.[4', ']', 'Gradient', 'based', 'methods', 'such', 'as', 'backpropagation', 'are', 'usually', 'used', 'to', 'estimate', 'the', 'parameters', 'of', 'the', 'network.[4', ']', 'During', 'the', 'training', 'phase', ',', 'ANNs', 'learn', 'from', 'labeled', 'training', 'data', 'by', 'iteratively', 'updating', 'their', 'parameters', 'to', 'minimize', 'a', 'defined', 'loss', 'function.[5', ']', 'This', 'method', 'allows', 'the', 'network', 'to', 'generalize', 'to', 'unseen', 'data', '.', '\\n']\n"
     ]
    }
   ],
   "source": [
    "# tokenization of the doc\n",
    "tokens = [token.text for token in doc]\n",
    "print(tokens)\n"
   ]
  },
  {
   "cell_type": "code",
   "execution_count": 8,
   "metadata": {},
   "outputs": [
    {
     "data": {
      "text/plain": [
       "'!\"#$%&\\'()*+,-./:;<=>?@[\\\\]^_`{|}~\\n'"
      ]
     },
     "execution_count": 8,
     "metadata": {},
     "output_type": "execute_result"
    }
   ],
   "source": [
    "punctuation = punctuation + '\\n'\n",
    "punctuation"
   ]
  },
  {
   "cell_type": "code",
   "execution_count": 9,
   "metadata": {},
   "outputs": [],
   "source": [
    "word_freq = {}\n",
    "for word in doc:\n",
    "    worder = word.text.lower()\n",
    "    if worder not in stopwords and worder not in punctuation:\n",
    "        if word.text not in word_freq.keys():\n",
    "            word_freq[word.text] = 1\n",
    "        else:\n",
    "            word_freq[word.text] += 1"
   ]
  },
  {
   "cell_type": "code",
   "execution_count": 10,
   "metadata": {},
   "outputs": [
    {
     "data": {
      "text/plain": [
       "{'machine': 1,\n",
       " 'learning': 2,\n",
       " 'neural': 6,\n",
       " 'network': 6,\n",
       " 'artificial': 4,\n",
       " 'net': 1,\n",
       " 'abbreviated': 1,\n",
       " 'ANN': 2,\n",
       " 'NN': 1,\n",
       " 'model': 3,\n",
       " 'inspired': 1,\n",
       " 'neuronal': 1,\n",
       " 'organization': 1,\n",
       " 'found': 1,\n",
       " 'biological': 1,\n",
       " 'networks': 3,\n",
       " 'animal': 1,\n",
       " 'brains.[1][2': 1,\n",
       " '\\n\\n': 4,\n",
       " 'connected': 4,\n",
       " 'units': 1,\n",
       " 'nodes': 1,\n",
       " 'called': 3,\n",
       " 'neurons': 5,\n",
       " 'loosely': 1,\n",
       " 'brain': 2,\n",
       " 'edges': 2,\n",
       " 'synapses': 1,\n",
       " 'neuron': 2,\n",
       " 'receives': 1,\n",
       " 'signals': 1,\n",
       " 'processes': 1,\n",
       " 'sends': 1,\n",
       " 'signal': 3,\n",
       " 'real': 1,\n",
       " 'number': 1,\n",
       " 'output': 3,\n",
       " 'computed': 1,\n",
       " 'non': 1,\n",
       " 'linear': 1,\n",
       " 'function': 2,\n",
       " 'sum': 1,\n",
       " 'inputs': 2,\n",
       " 'activation': 1,\n",
       " 'Neurons': 1,\n",
       " 'typically': 3,\n",
       " 'weight': 2,\n",
       " 'adjusts': 1,\n",
       " 'proceeds': 1,\n",
       " 'increases': 1,\n",
       " 'decreases': 1,\n",
       " 'strength': 1,\n",
       " 'connection': 1,\n",
       " 'Typically': 1,\n",
       " 'aggregated': 1,\n",
       " 'layers': 4,\n",
       " 'Different': 1,\n",
       " 'perform': 1,\n",
       " 'different': 1,\n",
       " 'transformations': 1,\n",
       " 'Signals': 1,\n",
       " 'travel': 1,\n",
       " 'layer': 4,\n",
       " 'input': 1,\n",
       " 'possibly': 1,\n",
       " 'passing': 1,\n",
       " 'multiple': 1,\n",
       " 'intermediate': 1,\n",
       " 'hidden': 2,\n",
       " 'deep': 1,\n",
       " '2': 1,\n",
       " 'layers.[3': 1,\n",
       " 'Artificial': 1,\n",
       " 'predictive': 1,\n",
       " 'modeling': 1,\n",
       " 'adaptive': 1,\n",
       " 'control': 1,\n",
       " 'applications': 1,\n",
       " 'trained': 2,\n",
       " 'dataset': 1,\n",
       " 'solve': 1,\n",
       " 'problems': 1,\n",
       " 'intelligence': 1,\n",
       " 'Networks': 1,\n",
       " 'learn': 2,\n",
       " 'experience': 1,\n",
       " 'derive': 1,\n",
       " 'conclusions': 1,\n",
       " 'complex': 1,\n",
       " 'seemingly': 1,\n",
       " 'unrelated': 1,\n",
       " 'set': 1,\n",
       " 'information': 1,\n",
       " 'Neural': 1,\n",
       " 'empirical': 2,\n",
       " 'risk': 2,\n",
       " 'minimization': 1,\n",
       " 'method': 2,\n",
       " 'based': 2,\n",
       " 'idea': 1,\n",
       " 'optimizing': 1,\n",
       " 'parameters': 3,\n",
       " 'minimize': 2,\n",
       " 'difference': 1,\n",
       " 'predicted': 1,\n",
       " 'actual': 1,\n",
       " 'target': 1,\n",
       " 'values': 1,\n",
       " 'given': 1,\n",
       " 'dataset.[4': 1,\n",
       " 'Gradient': 1,\n",
       " 'methods': 1,\n",
       " 'backpropagation': 1,\n",
       " 'usually': 1,\n",
       " 'estimate': 1,\n",
       " 'network.[4': 1,\n",
       " 'training': 2,\n",
       " 'phase': 1,\n",
       " 'ANNs': 1,\n",
       " 'labeled': 1,\n",
       " 'data': 2,\n",
       " 'iteratively': 1,\n",
       " 'updating': 1,\n",
       " 'defined': 1,\n",
       " 'loss': 1,\n",
       " 'function.[5': 1,\n",
       " 'allows': 1,\n",
       " 'generalize': 1,\n",
       " 'unseen': 1}"
      ]
     },
     "execution_count": 10,
     "metadata": {},
     "output_type": "execute_result"
    }
   ],
   "source": [
    "word_freq"
   ]
  },
  {
   "cell_type": "code",
   "execution_count": 11,
   "metadata": {},
   "outputs": [
    {
     "data": {
      "text/plain": [
       "6"
      ]
     },
     "execution_count": 11,
     "metadata": {},
     "output_type": "execute_result"
    }
   ],
   "source": [
    "max_freq_word = max(word_freq.values())\n",
    "max_freq_word"
   ]
  },
  {
   "cell_type": "code",
   "execution_count": 12,
   "metadata": {},
   "outputs": [],
   "source": [
    "# normalization of word fequency \n",
    "for word in word_freq.keys():\n",
    "        word_freq[word] = word_freq[word] / max_freq_word"
   ]
  },
  {
   "cell_type": "code",
   "execution_count": 13,
   "metadata": {},
   "outputs": [
    {
     "name": "stdout",
     "output_type": "stream",
     "text": [
      "{'machine': 0.16666666666666666, 'learning': 0.3333333333333333, 'neural': 1.0, 'network': 1.0, 'artificial': 0.6666666666666666, 'net': 0.16666666666666666, 'abbreviated': 0.16666666666666666, 'ANN': 0.3333333333333333, 'NN': 0.16666666666666666, 'model': 0.5, 'inspired': 0.16666666666666666, 'neuronal': 0.16666666666666666, 'organization': 0.16666666666666666, 'found': 0.16666666666666666, 'biological': 0.16666666666666666, 'networks': 0.5, 'animal': 0.16666666666666666, 'brains.[1][2': 0.16666666666666666, '\\n\\n': 0.6666666666666666, 'connected': 0.6666666666666666, 'units': 0.16666666666666666, 'nodes': 0.16666666666666666, 'called': 0.5, 'neurons': 0.8333333333333334, 'loosely': 0.16666666666666666, 'brain': 0.3333333333333333, 'edges': 0.3333333333333333, 'synapses': 0.16666666666666666, 'neuron': 0.3333333333333333, 'receives': 0.16666666666666666, 'signals': 0.16666666666666666, 'processes': 0.16666666666666666, 'sends': 0.16666666666666666, 'signal': 0.5, 'real': 0.16666666666666666, 'number': 0.16666666666666666, 'output': 0.5, 'computed': 0.16666666666666666, 'non': 0.16666666666666666, 'linear': 0.16666666666666666, 'function': 0.3333333333333333, 'sum': 0.16666666666666666, 'inputs': 0.3333333333333333, 'activation': 0.16666666666666666, 'Neurons': 0.16666666666666666, 'typically': 0.5, 'weight': 0.3333333333333333, 'adjusts': 0.16666666666666666, 'proceeds': 0.16666666666666666, 'increases': 0.16666666666666666, 'decreases': 0.16666666666666666, 'strength': 0.16666666666666666, 'connection': 0.16666666666666666, 'Typically': 0.16666666666666666, 'aggregated': 0.16666666666666666, 'layers': 0.6666666666666666, 'Different': 0.16666666666666666, 'perform': 0.16666666666666666, 'different': 0.16666666666666666, 'transformations': 0.16666666666666666, 'Signals': 0.16666666666666666, 'travel': 0.16666666666666666, 'layer': 0.6666666666666666, 'input': 0.16666666666666666, 'possibly': 0.16666666666666666, 'passing': 0.16666666666666666, 'multiple': 0.16666666666666666, 'intermediate': 0.16666666666666666, 'hidden': 0.3333333333333333, 'deep': 0.16666666666666666, '2': 0.16666666666666666, 'layers.[3': 0.16666666666666666, 'Artificial': 0.16666666666666666, 'predictive': 0.16666666666666666, 'modeling': 0.16666666666666666, 'adaptive': 0.16666666666666666, 'control': 0.16666666666666666, 'applications': 0.16666666666666666, 'trained': 0.3333333333333333, 'dataset': 0.16666666666666666, 'solve': 0.16666666666666666, 'problems': 0.16666666666666666, 'intelligence': 0.16666666666666666, 'Networks': 0.16666666666666666, 'learn': 0.3333333333333333, 'experience': 0.16666666666666666, 'derive': 0.16666666666666666, 'conclusions': 0.16666666666666666, 'complex': 0.16666666666666666, 'seemingly': 0.16666666666666666, 'unrelated': 0.16666666666666666, 'set': 0.16666666666666666, 'information': 0.16666666666666666, 'Neural': 0.16666666666666666, 'empirical': 0.3333333333333333, 'risk': 0.3333333333333333, 'minimization': 0.16666666666666666, 'method': 0.3333333333333333, 'based': 0.3333333333333333, 'idea': 0.16666666666666666, 'optimizing': 0.16666666666666666, 'parameters': 0.5, 'minimize': 0.3333333333333333, 'difference': 0.16666666666666666, 'predicted': 0.16666666666666666, 'actual': 0.16666666666666666, 'target': 0.16666666666666666, 'values': 0.16666666666666666, 'given': 0.16666666666666666, 'dataset.[4': 0.16666666666666666, 'Gradient': 0.16666666666666666, 'methods': 0.16666666666666666, 'backpropagation': 0.16666666666666666, 'usually': 0.16666666666666666, 'estimate': 0.16666666666666666, 'network.[4': 0.16666666666666666, 'training': 0.3333333333333333, 'phase': 0.16666666666666666, 'ANNs': 0.16666666666666666, 'labeled': 0.16666666666666666, 'data': 0.3333333333333333, 'iteratively': 0.16666666666666666, 'updating': 0.16666666666666666, 'defined': 0.16666666666666666, 'loss': 0.16666666666666666, 'function.[5': 0.16666666666666666, 'allows': 0.16666666666666666, 'generalize': 0.16666666666666666, 'unseen': 0.16666666666666666}\n"
     ]
    }
   ],
   "source": [
    "print(word_freq)"
   ]
  },
  {
   "cell_type": "code",
   "execution_count": 14,
   "metadata": {},
   "outputs": [
    {
     "name": "stdout",
     "output_type": "stream",
     "text": [
      "[\n",
      "In machine learning, a neural network (also artificial neural network or neural net, abbreviated ANN or NN) is a model inspired by the neuronal organization found in the biological neural networks in animal brains.[1][2]\n",
      "\n",
      "An ANN is made of connected units or nodes called artificial neurons, which loosely model the neurons in a brain., These are connected by edges, which model the synapses in a brain., An artificial neuron receives signals from connected neurons, then processes them and sends a signal to other connected neurons., The \"signal\" is a real number, and the output of each neuron is computed by some non-linear function of the sum of its inputs, called the activation function., Neurons and edges typically have a weight that adjusts as learning proceeds., The weight increases or decreases the strength of the signal at a connection.\n",
      "\n",
      ", Typically, neurons are aggregated into layers., Different layers may perform different transformations on their inputs., Signals travel from the first layer (the input layer) to the last layer (the output layer), possibly passing through multiple intermediate layers (hidden layers)., A network is typically called a deep neural network if it has at least 2 hidden layers.[3]\n",
      "\n",
      "Artificial neural networks are used for predictive modeling, adaptive control, and other applications where they can be trained via a dataset., They are also used to solve problems in artificial intelligence., Networks can learn from experience, and can derive conclusions from a complex and seemingly unrelated set of information.\n",
      "\n",
      ", Neural networks are typically trained through empirical risk minimization., This method is based on the idea of optimizing the network's parameters to minimize the difference, or empirical risk, between the predicted output and the actual target values in a given dataset.[4] Gradient based methods such as backpropagation are usually used to estimate the parameters of the network.[4], During the training phase, ANNs learn from labeled training data by iteratively updating their parameters to minimize a defined loss function.[5], This method allows the network to generalize to unseen data.\n",
      "]\n"
     ]
    }
   ],
   "source": [
    "sentence_tokens = [sent for sent in doc.sents]\n",
    "print(sentence_tokens)"
   ]
  },
  {
   "cell_type": "code",
   "execution_count": 15,
   "metadata": {},
   "outputs": [],
   "source": [
    "sentence_scores = {}\n",
    "for sent in sentence_tokens:\n",
    "    for word in sent: \n",
    "        if word.text.lower() in word_freq.keys():\n",
    "            if sent not in sentence_scores.keys():\n",
    "                sentence_scores[sent] = word_freq[word.text.lower()]\n",
    "            else:\n",
    "                sentence_scores[sent] += word_freq[word.text.lower()]"
   ]
  },
  {
   "cell_type": "code",
   "execution_count": 16,
   "metadata": {},
   "outputs": [
    {
     "data": {
      "text/plain": [
       "{\n",
       " In machine learning, a neural network (also artificial neural network or neural net, abbreviated ANN or NN) is a model inspired by the neuronal organization found in the biological neural networks in animal brains.[1][2]\n",
       " \n",
       " An ANN is made of connected units or nodes called artificial neurons, which loosely model the neurons in a brain.: 15.166666666666666,\n",
       " These are connected by edges, which model the synapses in a brain.: 2.0,\n",
       " An artificial neuron receives signals from connected neurons, then processes them and sends a signal to other connected neurons.: 5.166666666666666,\n",
       " The \"signal\" is a real number, and the output of each neuron is computed by some non-linear function of the sum of its inputs, called the activation function.: 4.0,\n",
       " Neurons and edges typically have a weight that adjusts as learning proceeds.: 2.6666666666666665,\n",
       " The weight increases or decreases the strength of the signal at a connection.\n",
       " : 2.1666666666666665,\n",
       " Typically, neurons are aggregated into layers.: 2.166666666666667,\n",
       " Different layers may perform different transformations on their inputs.: 1.6666666666666665,\n",
       " Signals travel from the first layer (the input layer) to the last layer (the output layer), possibly passing through multiple intermediate layers (hidden layers).: 6.0,\n",
       " A network is typically called a deep neural network if it has at least 2 hidden layers.[3]\n",
       " \n",
       " Artificial neural networks are used for predictive modeling, adaptive control, and other applications where they can be trained via a dataset.: 8.999999999999998,\n",
       " They are also used to solve problems in artificial intelligence.: 1.1666666666666667,\n",
       " Networks can learn from experience, and can derive conclusions from a complex and seemingly unrelated set of information.\n",
       " : 2.833333333333333,\n",
       " Neural networks are typically trained through empirical risk minimization.: 3.166666666666667,\n",
       " This method is based on the idea of optimizing the network's parameters to minimize the difference, or empirical risk, between the predicted output and the actual target values in a given dataset.[4] Gradient based methods such as backpropagation are usually used to estimate the parameters of the network.[4]: 6.833333333333337,\n",
       " During the training phase, ANNs learn from labeled training data by iteratively updating their parameters to minimize a defined loss function.[5]: 3.333333333333333,\n",
       " This method allows the network to generalize to unseen data.: 2.166666666666667}"
      ]
     },
     "execution_count": 16,
     "metadata": {},
     "output_type": "execute_result"
    }
   ],
   "source": [
    "sentence_scores"
   ]
  },
  {
   "cell_type": "code",
   "execution_count": 17,
   "metadata": {},
   "outputs": [],
   "source": [
    "from heapq import nlargest"
   ]
  },
  {
   "cell_type": "code",
   "execution_count": 18,
   "metadata": {},
   "outputs": [
    {
     "data": {
      "text/plain": [
       "4"
      ]
     },
     "execution_count": 18,
     "metadata": {},
     "output_type": "execute_result"
    }
   ],
   "source": [
    "select_length = int(len(sentence_tokens) * 0.3)\n",
    "select_length"
   ]
  },
  {
   "cell_type": "code",
   "execution_count": 19,
   "metadata": {},
   "outputs": [
    {
     "data": {
      "text/plain": [
       "[\n",
       " In machine learning, a neural network (also artificial neural network or neural net, abbreviated ANN or NN) is a model inspired by the neuronal organization found in the biological neural networks in animal brains.[1][2]\n",
       " \n",
       " An ANN is made of connected units or nodes called artificial neurons, which loosely model the neurons in a brain.,\n",
       " A network is typically called a deep neural network if it has at least 2 hidden layers.[3]\n",
       " \n",
       " Artificial neural networks are used for predictive modeling, adaptive control, and other applications where they can be trained via a dataset.,\n",
       " This method is based on the idea of optimizing the network's parameters to minimize the difference, or empirical risk, between the predicted output and the actual target values in a given dataset.[4] Gradient based methods such as backpropagation are usually used to estimate the parameters of the network.[4],\n",
       " Signals travel from the first layer (the input layer) to the last layer (the output layer), possibly passing through multiple intermediate layers (hidden layers).]"
      ]
     },
     "execution_count": 19,
     "metadata": {},
     "output_type": "execute_result"
    }
   ],
   "source": [
    "summary = nlargest(select_length, sentence_scores, key = sentence_scores.get)\n",
    "summary"
   ]
  },
  {
   "cell_type": "code",
   "execution_count": 20,
   "metadata": {},
   "outputs": [
    {
     "data": {
      "text/plain": [
       "['\\nIn machine learning, a neural network (also artificial neural network or neural net, abbreviated ANN or NN) is a model inspired by the neuronal organization found in the biological neural networks in animal brains.[1][2]\\n\\nAn ANN is made of connected units or nodes called artificial neurons, which loosely model the neurons in a brain.',\n",
       " 'A network is typically called a deep neural network if it has at least 2 hidden layers.[3]\\n\\nArtificial neural networks are used for predictive modeling, adaptive control, and other applications where they can be trained via a dataset.',\n",
       " \"This method is based on the idea of optimizing the network's parameters to minimize the difference, or empirical risk, between the predicted output and the actual target values in a given dataset.[4] Gradient based methods such as backpropagation are usually used to estimate the parameters of the network.[4]\",\n",
       " 'Signals travel from the first layer (the input layer) to the last layer (the output layer), possibly passing through multiple intermediate layers (hidden layers).']"
      ]
     },
     "execution_count": 20,
     "metadata": {},
     "output_type": "execute_result"
    }
   ],
   "source": [
    "extracted_summary = [word.text for word in summary]\n",
    "extracted_summary"
   ]
  },
  {
   "cell_type": "code",
   "execution_count": 21,
   "metadata": {},
   "outputs": [
    {
     "data": {
      "text/plain": [
       "\" In machine learning, a neural network (also artificial neural network or neural net, abbreviated ANN or NN) is a model inspired by the neuronal organization found in the biological neural networks in animal brains.[1][2]  An ANN is made of connected units or nodes called artificial neurons, which loosely model the neurons in a brain. A network is typically called a deep neural network if it has at least 2 hidden layers.[3]  Artificial neural networks are used for predictive modeling, adaptive control, and other applications where they can be trained via a dataset. This method is based on the idea of optimizing the network's parameters to minimize the difference, or empirical risk, between the predicted output and the actual target values in a given dataset.[4] Gradient based methods such as backpropagation are usually used to estimate the parameters of the network.[4] Signals travel from the first layer (the input layer) to the last layer (the output layer), possibly passing through multiple intermediate layers (hidden layers).\""
      ]
     },
     "execution_count": 21,
     "metadata": {},
     "output_type": "execute_result"
    }
   ],
   "source": [
    "ssummary = ' '.join(extracted_summary)\n",
    "ssummary = ssummary.replace(\"\\n\", \" \")\n",
    "\n",
    "ssummary"
   ]
  },
  {
   "cell_type": "code",
   "execution_count": 22,
   "metadata": {},
   "outputs": [
    {
     "data": {
      "text/plain": [
       "(2145, 1044)"
      ]
     },
     "execution_count": 22,
     "metadata": {},
     "output_type": "execute_result"
    }
   ],
   "source": [
    "len(text), len(ssummary)"
   ]
  }
 ],
 "metadata": {
  "kernelspec": {
   "display_name": "Python 3",
   "language": "python",
   "name": "python3"
  },
  "language_info": {
   "codemirror_mode": {
    "name": "ipython",
    "version": 3
   },
   "file_extension": ".py",
   "mimetype": "text/x-python",
   "name": "python",
   "nbconvert_exporter": "python",
   "pygments_lexer": "ipython3",
   "version": "3.8.19"
  }
 },
 "nbformat": 4,
 "nbformat_minor": 2
}
