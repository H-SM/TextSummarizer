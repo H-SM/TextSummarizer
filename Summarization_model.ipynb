{
 "cells": [
  {
   "cell_type": "markdown",
   "metadata": {},
   "source": [
    "### Text summarizer with Self trained model / function\n",
    "\n",
    "<!-- ![hugging face](https://www.thesoftwarereport.com/wp-content/uploads/2023/09/Hugging-Face2.png) -->\n",
    "Major Steps over covering the model \n",
    "- Scrape blog posts (medium, adobe) for net using beautiful soup \n",
    "- chunk them into sentences and summarize over these chunks (using the model to output over in text)"
   ]
  },
  {
   "cell_type": "markdown",
   "metadata": {},
   "source": [
    "##### 1. Importing Dependencies "
   ]
  },
  {
   "cell_type": "code",
   "execution_count": 1,
   "metadata": {},
   "outputs": [],
   "source": [
    "import nltk\n",
    "import os\n",
    "import re\n",
    "import math\n",
    "import operator\n",
    "from nltk.stem import WordNetLemmatizer\n",
    "from nltk.corpus import stopwords\n",
    "from nltk.tokenize import sent_tokenize,word_tokenize\n",
    "from bs4 import BeautifulSoup # scrap up blog post from the web \n",
    "import requests # make over http calls over to web (to scrap up a page)\n",
    "import json"
   ]
  },
  {
   "cell_type": "code",
   "execution_count": 18,
   "metadata": {},
   "outputs": [
    {
     "name": "stderr",
     "output_type": "stream",
     "text": [
      "[nltk_data] Downloading package punkt to\n",
      "[nltk_data]     C:\\Users\\Harman\\AppData\\Roaming\\nltk_data...\n",
      "[nltk_data]   Package punkt is already up-to-date!\n",
      "[nltk_data] Downloading package wordnet to\n",
      "[nltk_data]     C:\\Users\\Harman\\AppData\\Roaming\\nltk_data...\n",
      "[nltk_data] Downloading package averaged_perceptron_tagger to\n",
      "[nltk_data]     C:\\Users\\Harman\\AppData\\Roaming\\nltk_data...\n",
      "[nltk_data]   Package averaged_perceptron_tagger is already up-to-\n",
      "[nltk_data]       date!\n"
     ]
    }
   ],
   "source": [
    "nltk.download('punkt')\n",
    "nltk.download('wordnet')\n",
    "nltk.download('averaged_perceptron_tagger')\n",
    "Stopwords = set(stopwords.words('english'))\n",
    "wordlemmatizer = WordNetLemmatizer()"
   ]
  },
  {
   "cell_type": "markdown",
   "metadata": {},
   "source": [
    "##### 2. making web-scrapper"
   ]
  },
  {
   "cell_type": "code",
   "execution_count": 62,
   "metadata": {},
   "outputs": [],
   "source": [
    "# URL = \"https://hackernoon.com/simplifying-the-crazy-world-of-linux-distros\"\n",
    "URL = \"https://hackernoon.com/nvidia-throws-gamers-under-the-bus\""
   ]
  },
  {
   "cell_type": "code",
   "execution_count": 63,
   "metadata": {},
   "outputs": [],
   "source": [
    "r = requests.get(URL)"
   ]
  },
  {
   "cell_type": "code",
   "execution_count": 64,
   "metadata": {},
   "outputs": [
    {
     "name": "stdout",
     "output_type": "stream",
     "text": [
      "If you ever needed proof that is no longer the company you think it is, look no further than the company&apos;s most recent GPU Technology Conference (also known as the GTC). The conference was chock-full of announcements, but the big one was of course the unveiling of the Blackwell class of AI chips which are supposedly going to be better than the widely-in-demand, and equally as expensive, Hopper processors that have powered the likes of OpenAI&apos;s ChatGPT. Nvidia It was the demand for the H100 chips that transformed Nvidia into a company worth over $2 trillion, almost overnight in the larger scheme of things, leading some (including HackerNoon) to whether the stock was in a bubble (almost a quarter of HackerNoon readers thought that it was). But, as if Nvidia was out to prove everyone wrong, the company&apos;s last earnings release showed that not only was it still selling the Hopper processors, it was selling of them and would in the near future. question more continue to do so Which brings us to the Nvidia GTC. Nvidia Chief Executive Jensen Huang is no Steve Jobs, but he is certainly a shareholders&apos; man, and he knows how to keep them happy – presentation skills be damned. The Blackwell announcement may be nothing akin to Apple&apos;s unveiling of the very first iPhone, but boy did Wall Street go crazy. And with crazy, comes worry. Worry about a monopoly. Worry about supply. Worry that the company may not be producing those darn AI processors fast enough. But for Nvidia, it is COVID-19 all over again: demand is up, consumers are desperate, and the company can charge whatever price it wants for its hardware. , ladies and gentlemen, is the future tech companies had hoped for when they began aggressively hiring during the worldwide pandemic only to find demand normalizing once the world opened up. This Which makes Nvidia quite possibly the only company to not only have profiteered off of consumers during the pandemic but to have hit an even bigger jackpot: the enterprise. Because face it, the $40,000 H100 chips aren&apos;t for everyday consumers — they&apos;re for the faceless corporations that can dish out the billions needed to train large language models. And therein lies Nvidia&apos;s success. You see, just a day after the GTC began, Jensen Huang held a with investors to tell them the company was poised to win a large chunk of the $250 billion corporations spend on building and maintaining data centers every year given the variety of hardware and software Nvidia has on offer. meeting Now all of this is well and good for the company, but there&apos;s one stakeholder that is hopelessly missing from all of Nvidia&apos;s future plans: the gamers. Nvidia never really started an artificial intelligence company the way OpenAI and so many others like it did. It started out as a company that produced graphic cards for video games, and for a long, long time, this is what Nvidia was known for. But as an offshoot of all the research it did in producing better and better graphic cards, it ended up creating tensor cores for real-time deep learning image enhancement and upscaling technologies for use in video games. Little did Nvidia know that this technology would then serve as the backbone of LLMs, instantly transforming it as the arms dealer of choice in corporations&apos; pursuit of the perfect AI. as Nvidia may very well be out of touch with its roots, but that&apos;s hardly what shareholders care about. And if Nvidia shareholders don&apos;t care about the gamers, then Nvidia doesn&apos;t care about the gamers. This is why, a conference that have been about the launch of the company&apos;s next graphic card was instantly hijacked by talk of AI, because it&apos;s 2024, and AI, for all intents and purposes, sells. should Some may call it the &apos; &apos;, but I&apos;ll call it what it is: the death knell of Nvidia&apos;s days as a gaming-focused company. Woodstock of AI 👋 You’re reading HackerNoon&apos;s , a weekly collection of tech goodness that combines HackerNoon&apos;s proprietary data with internet trends to determine which companies are rising and falling in the public consciousness. Subscribe to receive the newsletter in your inbox every Tuesday. Tech Company News Brief here complete Microsoft Pulls The Corporate Espionage of a Lifetime How do you kill two birds with one stone? I don&apos;t know. Ask Satya Nadella. So laser-focused is the chief executive on monopolizing his company&apos;s success in AI, that he has decided to do the unthinkable: hire its competitor&apos;s staff and hand them the reins of a newly launched division focused primarily on artificial intelligence. Microsoft I am of course referring to Mustafa Suleyman and Karen Simonyan, the co-founders of AI startup Inflection AI, which, up until recently, should have been competing against Microsoft&apos;s ward OpenAI but found itself with an offer (I assume) they could not refuse. Yes, the very same Mustafa Suleyman who co-founded DeepMind Technologies and sold it to in 2014, will be leading Microsoft AI as its chief executive with the help of Karen Simonyan as the division&apos;s chief scientist. Google Microsoft also seems to have hired &quot;several members&quot; of the Inflection team who have chosen to join Suleyman and Simonyan to advance the company&apos;s Copilot and other consumer AI products and research. So what does Inflection AI get in return? A whopping , apparently, and the prestige of working with Microsoft. $650 million That&apos;s a lot of money to pay to get your competitor out of the way keep OpenAI, and by extension, Sam Altman, , but as the world&apos;s most valuable company right now, Microsoft can probably get away with just about anything. and in check Microsoft ranked #6 on HackerNoon&apos;s this week. Google was on the #13 spot. Tech Company Rankings Apple Pulls the Plug on In-House MicroLED Displays First the , now the smartwatch displays. electric car In perhaps what is a period of realignment for , the company has on building its own smartwatch displays due to the cost and complexity involved. Apple pulled the plug The microLED displays were due to be introduced in a future version of the Apple Watch and were part of a push to lower the company&apos;s reliance on partners, but it seems the company is no longer planning to design and develop that technology in house, maybe focusing instead on the newly launched (and confusingly reviewed) Apple Vision Pro(s). As with the electric car, the decision to pull the plug will result in the elimination of job roles at the company. Apple ranked #3 on HackerNoon&apos;s this week. Tech Company Rankings In Other News.. 📰 SEC Seeks $1.95B Fine in Final Judgment Against Ripple — via CoinDesk AI is a data problem. Cyera is raising up to $300M on a $1.5B valuation to secure it — via TechCrunch 3 ways Apple’s monopoly lawsuit could change the iPhone experience for fans — via CNN Musk&apos;s X Corp loses lawsuit against hate speech watchdog — via Reuters Meta&apos;s broad-brush ban on Islamic term harmed free speech, board rules — via Axios Adam Neumann makes a $500 million bid for WeWork that could hit $900 million if financing and diligence firm up — via CNBC And that&apos;s a wrap! Don&apos;t forget to share this newsletter with your family and friends! See y&apos;all next week. PEACE! ☮️ — Sheharyar Khan, Editor, Business Tech @ HackerNoon *All rankings are current as of Monday. To see how the rankings have changed, please visit HackerNoon&apos;s page. Tech Company Rankings\n"
     ]
    }
   ],
   "source": [
    "soup = BeautifulSoup(r.text, 'html.parser')\n",
    "results = soup.find_all(['h1', 'p'])\n",
    "text = [result.text for result in results]\n",
    "ARTICLE = ' '.join(text)\n",
    "script_tag = soup.find('script', type='application/ld+json')\n",
    "\n",
    "if script_tag:\n",
    "    # Parse JSON data\n",
    "    json_data = json.loads(script_tag.string)\n",
    "    \n",
    "    # Extract articleBody\n",
    "    article_body = json_data.get('articleBody', '')\n",
    "\n",
    "    print(article_body)\n",
    "\n",
    "    ARTICLE = ARTICLE +\". \" + article_body\n",
    "else:\n",
    "    print(\"JSON-LD script tag not found.\")"
   ]
  },
  {
   "cell_type": "code",
   "execution_count": 65,
   "metadata": {},
   "outputs": [
    {
     "name": "stdout",
     "output_type": "stream",
     "text": [
      "Nvidia Throws Gamers Under the Bus @sheharyarkhan HackerNoon editor. Open to scoops on music, video games, pop culture, and tech.. If you ever needed proof that is no longer the company you think it is, look no further than the company&apos;s most recent GPU Technology Conference (also known as the GTC). The conference was chock-full of announcements, but the big one was of course the unveiling of the Blackwell class of AI chips which are supposedly going to be better than the widely-in-demand, and equally as expensive, Hopper processors that have powered the likes of OpenAI&apos;s ChatGPT. Nvidia It was the demand for the H100 chips that transformed Nvidia into a company worth over $2 trillion, almost overnight in the larger scheme of things, leading some (including HackerNoon) to whether the stock was in a bubble (almost a quarter of HackerNoon readers thought that it was). But, as if Nvidia was out to prove everyone wrong, the company&apos;s last earnings release showed that not only was it still selling the Hopper processors, it was selling of them and would in the near future. question more continue to do so Which brings us to the Nvidia GTC. Nvidia Chief Executive Jensen Huang is no Steve Jobs, but he is certainly a shareholders&apos; man, and he knows how to keep them happy – presentation skills be damned. The Blackwell announcement may be nothing akin to Apple&apos;s unveiling of the very first iPhone, but boy did Wall Street go crazy. And with crazy, comes worry. Worry about a monopoly. Worry about supply. Worry that the company may not be producing those darn AI processors fast enough. But for Nvidia, it is COVID-19 all over again: demand is up, consumers are desperate, and the company can charge whatever price it wants for its hardware. , ladies and gentlemen, is the future tech companies had hoped for when they began aggressively hiring during the worldwide pandemic only to find demand normalizing once the world opened up. This Which makes Nvidia quite possibly the only company to not only have profiteered off of consumers during the pandemic but to have hit an even bigger jackpot: the enterprise. Because face it, the $40,000 H100 chips aren&apos;t for everyday consumers — they&apos;re for the faceless corporations that can dish out the billions needed to train large language models. And therein lies Nvidia&apos;s success. You see, just a day after the GTC began, Jensen Huang held a with investors to tell them the company was poised to win a large chunk of the $250 billion corporations spend on building and maintaining data centers every year given the variety of hardware and software Nvidia has on offer. meeting Now all of this is well and good for the company, but there&apos;s one stakeholder that is hopelessly missing from all of Nvidia&apos;s future plans: the gamers. Nvidia never really started an artificial intelligence company the way OpenAI and so many others like it did. It started out as a company that produced graphic cards for video games, and for a long, long time, this is what Nvidia was known for. But as an offshoot of all the research it did in producing better and better graphic cards, it ended up creating tensor cores for real-time deep learning image enhancement and upscaling technologies for use in video games. Little did Nvidia know that this technology would then serve as the backbone of LLMs, instantly transforming it as the arms dealer of choice in corporations&apos; pursuit of the perfect AI. as Nvidia may very well be out of touch with its roots, but that&apos;s hardly what shareholders care about. And if Nvidia shareholders don&apos;t care about the gamers, then Nvidia doesn&apos;t care about the gamers. This is why, a conference that have been about the launch of the company&apos;s next graphic card was instantly hijacked by talk of AI, because it&apos;s 2024, and AI, for all intents and purposes, sells. should Some may call it the &apos; &apos;, but I&apos;ll call it what it is: the death knell of Nvidia&apos;s days as a gaming-focused company. Woodstock of AI 👋 You’re reading HackerNoon&apos;s , a weekly collection of tech goodness that combines HackerNoon&apos;s proprietary data with internet trends to determine which companies are rising and falling in the public consciousness. Subscribe to receive the newsletter in your inbox every Tuesday. Tech Company News Brief here complete Microsoft Pulls The Corporate Espionage of a Lifetime How do you kill two birds with one stone? I don&apos;t know. Ask Satya Nadella. So laser-focused is the chief executive on monopolizing his company&apos;s success in AI, that he has decided to do the unthinkable: hire its competitor&apos;s staff and hand them the reins of a newly launched division focused primarily on artificial intelligence. Microsoft I am of course referring to Mustafa Suleyman and Karen Simonyan, the co-founders of AI startup Inflection AI, which, up until recently, should have been competing against Microsoft&apos;s ward OpenAI but found itself with an offer (I assume) they could not refuse. Yes, the very same Mustafa Suleyman who co-founded DeepMind Technologies and sold it to in 2014, will be leading Microsoft AI as its chief executive with the help of Karen Simonyan as the division&apos;s chief scientist. Google Microsoft also seems to have hired &quot;several members&quot; of the Inflection team who have chosen to join Suleyman and Simonyan to advance the company&apos;s Copilot and other consumer AI products and research. So what does Inflection AI get in return? A whopping , apparently, and the prestige of working with Microsoft. $650 million That&apos;s a lot of money to pay to get your competitor out of the way keep OpenAI, and by extension, Sam Altman, , but as the world&apos;s most valuable company right now, Microsoft can probably get away with just about anything. and in check Microsoft ranked #6 on HackerNoon&apos;s this week. Google was on the #13 spot. Tech Company Rankings Apple Pulls the Plug on In-House MicroLED Displays First the , now the smartwatch displays. electric car In perhaps what is a period of realignment for , the company has on building its own smartwatch displays due to the cost and complexity involved. Apple pulled the plug The microLED displays were due to be introduced in a future version of the Apple Watch and were part of a push to lower the company&apos;s reliance on partners, but it seems the company is no longer planning to design and develop that technology in house, maybe focusing instead on the newly launched (and confusingly reviewed) Apple Vision Pro(s). As with the electric car, the decision to pull the plug will result in the elimination of job roles at the company. Apple ranked #3 on HackerNoon&apos;s this week. Tech Company Rankings In Other News.. 📰 SEC Seeks $1.95B Fine in Final Judgment Against Ripple — via CoinDesk AI is a data problem. Cyera is raising up to $300M on a $1.5B valuation to secure it — via TechCrunch 3 ways Apple’s monopoly lawsuit could change the iPhone experience for fans — via CNN Musk&apos;s X Corp loses lawsuit against hate speech watchdog — via Reuters Meta&apos;s broad-brush ban on Islamic term harmed free speech, board rules — via Axios Adam Neumann makes a $500 million bid for WeWork that could hit $900 million if financing and diligence firm up — via CNBC And that&apos;s a wrap! Don&apos;t forget to share this newsletter with your family and friends! See y&apos;all next week. PEACE! ☮️ — Sheharyar Khan, Editor, Business Tech @ HackerNoon *All rankings are current as of Monday. To see how the rankings have changed, please visit HackerNoon&apos;s page. Tech Company Rankings\n"
     ]
    }
   ],
   "source": [
    "print(ARTICLE)"
   ]
  },
  {
   "cell_type": "markdown",
   "metadata": {},
   "source": [
    "#### 3. Text propressing - and implementing TFIDF "
   ]
  },
  {
   "cell_type": "code",
   "execution_count": 14,
   "metadata": {},
   "outputs": [],
   "source": [
    "ARTICLE = ARTICLE.replace('.', '.<eos>')\n",
    "ARTICLE = ARTICLE.replace('?', '?<eos>')\n",
    "ARTICLE = ARTICLE.replace('!', '!<eos>')"
   ]
  },
  {
   "cell_type": "code",
   "execution_count": 21,
   "metadata": {},
   "outputs": [
    {
     "data": {
      "text/plain": [
       "['Sign up Sign in Sign up Sign in Automatic Image Captioning With PyTorch Deepesh Garg Follow -- Listen Share “It’s going to be interesting to see how society deals with artificial intelligence, but it will definitely be cool.',\n",
       " '” - Colin Angle This is my first open source project .',\n",
       " ' I was selected as a Participant for Open Source Contributions at Student Code-in .',\n",
       " ' Actually, It was a two months programme where I was selected for contributions to a Computer Vision Project : Image Captioning .',\n",
       " ' In this project, I design and train a CNN-RNN (Convolutional Neural Network — Recurrent Neural Network) model for automatically generating image captions.',\n",
       " ' In this case, LSTM (Long Short Term Memory), is used which is a special kind of RNN that includes a memory cell, in order to maintain the information for a longer period of time.',\n",
       " ' The network is trained on the Microsoft Common Objects in COntext (MS COCO) dataset.',\n",
       " ' The image captioning model is displayed below.',\n",
       " ' Image Source Dataset Used — MS COCO Dataset The COCO dataset is one of the largest, publicly available image datasets and it is meant to represent realistic scenes.',\n",
       " ' What I mean by this is that COCO does not overly pre-process images, instead these images come in a variety of shapes with a variety of objects and environment/lighting conditions that closely represent what you might get if you compiled images from many different cameras around the world.',\n",
       " ' To explore the dataset, you can check out the dataset website Captions COCO is a richly labeled dataset; it comes with class labels, labels for segments of an image, and a set of captions for a given image .',\n",
       " ' Here is an example : Image Source — Udacity Visualize the Dataset The Microsoft Common Objects in COntext (MS COCO) dataset is a large-scale dataset for scene understanding.',\n",
       " ' The dataset is commonly used to train and benchmark object detection, segmentation, and captioning algorithms.',\n",
       " ' The CNN-RNN Architecture Encoder CNN The encoder that I used was the pre-trained ResNet-50 architecture (with the final fully-connected layer removed) to extract features from a batch of pre-processed images.',\n",
       " ' The output is then flattened to a vector, before being passed through a Linear layer to transform the feature vector to have the same size as the word embedding.',\n",
       " ' Decoder RNN The job of the RNN is to decode the process vector and turn it into a sequence of words.',\n",
       " ' Thus, this portion of the network is often called a decoder.',\n",
       " ' In this case, LSTM (Long Short Term Memory), is used which is a special kind of RNN that includes a memory cell, in order to maintain the information for a longer period of time.',\n",
       " ' Caption Pre-Processing The captions also need to be pre-processed and prepped for training.',\n",
       " ' In this example, for generating captions, I aimed to create a model that predicts the next token of a sentence from previous tokens, So I turned the caption associated with any image into a list of tokenized words, before casting it to a PyTorch tensor that we can use to train the network.',\n",
       " ' Tokenizing Captions First, we iterate through all of the training captions and create a dictionary that maps all unique words to a numerical index.',\n",
       " ' So, every word we come across will have a corresponding integer value that can be found in this dictionary.',\n",
       " ' The words in this dictionary are referred to as vocabulary.',\n",
       " ' Output Output Conversion Of Word To Vectors The words first must be turned into a numerical representation so that a network can use normal loss functions and optimizers to calculate the difference between a predicted word and ground truth word (from a known, training caption) .',\n",
       " ' So, we typically turn a sequence of words into a sequence of numerical values; a vector of numbers where each number maps to a specific word in our vocabulary.',\n",
       " ' Training The Model We have two model components, i.',\n",
       " 'e.',\n",
       " ' encoder and decoder, we train them jointly by passing the output of the encoder, which is the latent space vector, to the decoder, which, in turn, is the recurrent neural network.',\n",
       " ' No.',\n",
       " ' Of Epochs = 1 Batch Size = 32 To figure out how well our model is doing, we can look at how the training loss and perplexity evolve during training — and for the purposes of this project, we can amend the hyperparameters based on this information.',\n",
       " ' However, this will not tell you if your model is overfitting to the training data, and, unfortunately, overfitting is a problem that is commonly encountered when training image captioning models.',\n",
       " ' For this project, you need not worry about overfitting.',\n",
       " ' This project does not have strict requirements regarding the performance of your model, and you just need to demonstrate that your model has learned something when you generate captions on the test data.',\n",
       " \" Prediction Function The get_prediction function was used to loop over images in the test dataset and print model's predicted caption.\",\n",
       " ' Predicted Results More Predictions This is my complete open source project on GitHub .',\n",
       " ' References 1.',\n",
       " ' Show, Attend and Tell: Neural Image Caption Generation with Visual Attention( https://arxiv.',\n",
       " 'org/pdf/1502.',\n",
       " '03044.',\n",
       " 'pdf) 2.',\n",
       " ' https://github.',\n",
       " 'com/sauravraghuvanshi/Udacity-Computer-Vision-Nanodegree-Program/tree/master/project_2_image_captioning_project Happy Learning !',\n",
       " ' -- -- CSE Undergrad 🎓 || ML Enthusiast 💻 || Coder 👨\\u200d💻 || Optimistic About New And Developing AI Technologies 💯 Help Status About Careers Blog Privacy Terms Text to speech Teams.',\n",
       " ' ']"
      ]
     },
     "execution_count": 21,
     "metadata": {},
     "output_type": "execute_result"
    }
   ],
   "source": [
    "sentences = ARTICLE.split('<eos>')\n",
    "sentences"
   ]
  },
  {
   "cell_type": "code",
   "execution_count": 66,
   "metadata": {},
   "outputs": [],
   "source": [
    "def lemmatize_words(words):\n",
    "    lemmatized_words = []\n",
    "    for word in words:\n",
    "       lemmatized_words.append(wordlemmatizer.lemmatize(word))\n",
    "    return lemmatized_words"
   ]
  },
  {
   "cell_type": "code",
   "execution_count": 67,
   "metadata": {},
   "outputs": [],
   "source": [
    "def stem_words(words):\n",
    "    stemmed_words = []\n",
    "    for word in words:\n",
    "       stemmed_words.append(stemmer.stem(word))\n",
    "    return stemmed_words\n"
   ]
  },
  {
   "cell_type": "code",
   "execution_count": 10,
   "metadata": {},
   "outputs": [],
   "source": [
    "def remove_special_characters(text):\n",
    "    regex = r'[^a-zA-Z0-9\\s]'\n",
    "    text = re.sub(regex,'',text)\n",
    "    return text"
   ]
  },
  {
   "cell_type": "code",
   "execution_count": 68,
   "metadata": {},
   "outputs": [],
   "source": [
    "tokenized_sentence = sent_tokenize(ARTICLE)\n",
    "text = remove_special_characters(str(ARTICLE))\n",
    "text = re.sub(r'\\d+', '', text)"
   ]
  },
  {
   "cell_type": "code",
   "execution_count": 69,
   "metadata": {},
   "outputs": [
    {
     "data": {
      "text/plain": [
       "'Nvidia Throws Gamers Under the Bus sheharyarkhan HackerNoon editor Open to scoops on music video games pop culture and tech If you ever needed proof that is no longer the company you think it is look no further than the companyaposs most recent GPU Technology Conference also known as the GTC The conference was chockfull of announcements but the big one was of course the unveiling of the Blackwell class of AI chips which are supposedly going to be better than the widelyindemand and equally as expensive Hopper processors that have powered the likes of OpenAIaposs ChatGPT Nvidia It was the demand for the H chips that transformed Nvidia into a company worth over  trillion almost overnight in the larger scheme of things leading some including HackerNoon to whether the stock was in a bubble almost a quarter of HackerNoon readers thought that it was But as if Nvidia was out to prove everyone wrong the companyaposs last earnings release showed that not only was it still selling the Hopper processors it was selling of them and would in the near future question more continue to do so Which brings us to the Nvidia GTC Nvidia Chief Executive Jensen Huang is no Steve Jobs but he is certainly a shareholdersapos man and he knows how to keep them happy  presentation skills be damned The Blackwell announcement may be nothing akin to Appleaposs unveiling of the very first iPhone but boy did Wall Street go crazy And with crazy comes worry Worry about a monopoly Worry about supply Worry that the company may not be producing those darn AI processors fast enough But for Nvidia it is COVID all over again demand is up consumers are desperate and the company can charge whatever price it wants for its hardware  ladies and gentlemen is the future tech companies had hoped for when they began aggressively hiring during the worldwide pandemic only to find demand normalizing once the world opened up This Which makes Nvidia quite possibly the only company to not only have profiteered off of consumers during the pandemic but to have hit an even bigger jackpot the enterprise Because face it the  H chips arenapost for everyday consumers  theyaposre for the faceless corporations that can dish out the billions needed to train large language models And therein lies Nvidiaaposs success You see just a day after the GTC began Jensen Huang held a with investors to tell them the company was poised to win a large chunk of the  billion corporations spend on building and maintaining data centers every year given the variety of hardware and software Nvidia has on offer meeting Now all of this is well and good for the company but thereaposs one stakeholder that is hopelessly missing from all of Nvidiaaposs future plans the gamers Nvidia never really started an artificial intelligence company the way OpenAI and so many others like it did It started out as a company that produced graphic cards for video games and for a long long time this is what Nvidia was known for But as an offshoot of all the research it did in producing better and better graphic cards it ended up creating tensor cores for realtime deep learning image enhancement and upscaling technologies for use in video games Little did Nvidia know that this technology would then serve as the backbone of LLMs instantly transforming it as the arms dealer of choice in corporationsapos pursuit of the perfect AI as Nvidia may very well be out of touch with its roots but thataposs hardly what shareholders care about And if Nvidia shareholders donapost care about the gamers then Nvidia doesnapost care about the gamers This is why a conference that have been about the launch of the companyaposs next graphic card was instantly hijacked by talk of AI because itaposs  and AI for all intents and purposes sells should Some may call it the apos apos but Iaposll call it what it is the death knell of Nvidiaaposs days as a gamingfocused company Woodstock of AI  Youre reading HackerNoonaposs  a weekly collection of tech goodness that combines HackerNoonaposs proprietary data with internet trends to determine which companies are rising and falling in the public consciousness Subscribe to receive the newsletter in your inbox every Tuesday Tech Company News Brief here complete Microsoft Pulls The Corporate Espionage of a Lifetime How do you kill two birds with one stone I donapost know Ask Satya Nadella So laserfocused is the chief executive on monopolizing his companyaposs success in AI that he has decided to do the unthinkable hire its competitoraposs staff and hand them the reins of a newly launched division focused primarily on artificial intelligence Microsoft I am of course referring to Mustafa Suleyman and Karen Simonyan the cofounders of AI startup Inflection AI which up until recently should have been competing against Microsoftaposs ward OpenAI but found itself with an offer I assume they could not refuse Yes the very same Mustafa Suleyman who cofounded DeepMind Technologies and sold it to in  will be leading Microsoft AI as its chief executive with the help of Karen Simonyan as the divisionaposs chief scientist Google Microsoft also seems to have hired quotseveral membersquot of the Inflection team who have chosen to join Suleyman and Simonyan to advance the companyaposs Copilot and other consumer AI products and research So what does Inflection AI get in return A whopping  apparently and the prestige of working with Microsoft  million Thataposs a lot of money to pay to get your competitor out of the way keep OpenAI and by extension Sam Altman  but as the worldaposs most valuable company right now Microsoft can probably get away with just about anything and in check Microsoft ranked  on HackerNoonaposs this week Google was on the  spot Tech Company Rankings Apple Pulls the Plug on InHouse MicroLED Displays First the  now the smartwatch displays electric car In perhaps what is a period of realignment for  the company has on building its own smartwatch displays due to the cost and complexity involved Apple pulled the plug The microLED displays were due to be introduced in a future version of the Apple Watch and were part of a push to lower the companyaposs reliance on partners but it seems the company is no longer planning to design and develop that technology in house maybe focusing instead on the newly launched and confusingly reviewed Apple Vision Pros As with the electric car the decision to pull the plug will result in the elimination of job roles at the company Apple ranked  on HackerNoonaposs this week Tech Company Rankings In Other News  SEC Seeks B Fine in Final Judgment Against Ripple  via CoinDesk AI is a data problem Cyera is raising up to M on a B valuation to secure it  via TechCrunch  ways Apples monopoly lawsuit could change the iPhone experience for fans  via CNN Muskaposs X Corp loses lawsuit against hate speech watchdog  via Reuters Metaaposs broadbrush ban on Islamic term harmed free speech board rules  via Axios Adam Neumann makes a  million bid for WeWork that could hit  million if financing and diligence firm up  via CNBC And thataposs a wrap Donapost forget to share this newsletter with your family and friends See yaposall next week PEACE   Sheharyar Khan Editor Business Tech  HackerNoon All rankings are current as of Monday To see how the rankings have changed please visit HackerNoonaposs page Tech Company Rankings'"
      ]
     },
     "execution_count": 69,
     "metadata": {},
     "output_type": "execute_result"
    }
   ],
   "source": [
    "text"
   ]
  },
  {
   "cell_type": "code",
   "execution_count": 70,
   "metadata": {},
   "outputs": [
    {
     "data": {
      "text/plain": [
       "['Nvidia Throws Gamers Under the Bus @sheharyarkhan HackerNoon editor.',\n",
       " 'Open to scoops on music, video games, pop culture, and tech..',\n",
       " 'If you ever needed proof that is no longer the company you think it is, look no further than the company&apos;s most recent GPU Technology Conference (also known as the GTC).',\n",
       " 'The conference was chock-full of announcements, but the big one was of course the unveiling of the Blackwell class of AI chips which are supposedly going to be better than the widely-in-demand, and equally as expensive, Hopper processors that have powered the likes of OpenAI&apos;s ChatGPT.',\n",
       " 'Nvidia It was the demand for the H100 chips that transformed Nvidia into a company worth over $2 trillion, almost overnight in the larger scheme of things, leading some (including HackerNoon) to whether the stock was in a bubble (almost a quarter of HackerNoon readers thought that it was).',\n",
       " 'But, as if Nvidia was out to prove everyone wrong, the company&apos;s last earnings release showed that not only was it still selling the Hopper processors, it was selling of them and would in the near future.',\n",
       " 'question more continue to do so Which brings us to the Nvidia GTC.',\n",
       " 'Nvidia Chief Executive Jensen Huang is no Steve Jobs, but he is certainly a shareholders&apos; man, and he knows how to keep them happy – presentation skills be damned.',\n",
       " 'The Blackwell announcement may be nothing akin to Apple&apos;s unveiling of the very first iPhone, but boy did Wall Street go crazy.',\n",
       " 'And with crazy, comes worry.',\n",
       " 'Worry about a monopoly.',\n",
       " 'Worry about supply.',\n",
       " 'Worry that the company may not be producing those darn AI processors fast enough.',\n",
       " 'But for Nvidia, it is COVID-19 all over again: demand is up, consumers are desperate, and the company can charge whatever price it wants for its hardware.',\n",
       " ', ladies and gentlemen, is the future tech companies had hoped for when they began aggressively hiring during the worldwide pandemic only to find demand normalizing once the world opened up.',\n",
       " 'This Which makes Nvidia quite possibly the only company to not only have profiteered off of consumers during the pandemic but to have hit an even bigger jackpot: the enterprise.',\n",
       " 'Because face it, the $40,000 H100 chips aren&apos;t for everyday consumers — they&apos;re for the faceless corporations that can dish out the billions needed to train large language models.',\n",
       " 'And therein lies Nvidia&apos;s success.',\n",
       " 'You see, just a day after the GTC began, Jensen Huang held a with investors to tell them the company was poised to win a large chunk of the $250 billion corporations spend on building and maintaining data centers every year given the variety of hardware and software Nvidia has on offer.',\n",
       " 'meeting Now all of this is well and good for the company, but there&apos;s one stakeholder that is hopelessly missing from all of Nvidia&apos;s future plans: the gamers.',\n",
       " 'Nvidia never really started an artificial intelligence company the way OpenAI and so many others like it did.',\n",
       " 'It started out as a company that produced graphic cards for video games, and for a long, long time, this is what Nvidia was known for.',\n",
       " 'But as an offshoot of all the research it did in producing better and better graphic cards, it ended up creating tensor cores for real-time deep learning image enhancement and upscaling technologies for use in video games.',\n",
       " 'Little did Nvidia know that this technology would then serve as the backbone of LLMs, instantly transforming it as the arms dealer of choice in corporations&apos; pursuit of the perfect AI.',\n",
       " 'as Nvidia may very well be out of touch with its roots, but that&apos;s hardly what shareholders care about.',\n",
       " 'And if Nvidia shareholders don&apos;t care about the gamers, then Nvidia doesn&apos;t care about the gamers.',\n",
       " 'This is why, a conference that have been about the launch of the company&apos;s next graphic card was instantly hijacked by talk of AI, because it&apos;s 2024, and AI, for all intents and purposes, sells.',\n",
       " 'should Some may call it the &apos; &apos;, but I&apos;ll call it what it is: the death knell of Nvidia&apos;s days as a gaming-focused company.',\n",
       " 'Woodstock of AI 👋 You’re reading HackerNoon&apos;s , a weekly collection of tech goodness that combines HackerNoon&apos;s proprietary data with internet trends to determine which companies are rising and falling in the public consciousness.',\n",
       " 'Subscribe to receive the newsletter in your inbox every Tuesday.',\n",
       " 'Tech Company News Brief here complete Microsoft Pulls The Corporate Espionage of a Lifetime How do you kill two birds with one stone?',\n",
       " 'I don&apos;t know.',\n",
       " 'Ask Satya Nadella.',\n",
       " 'So laser-focused is the chief executive on monopolizing his company&apos;s success in AI, that he has decided to do the unthinkable: hire its competitor&apos;s staff and hand them the reins of a newly launched division focused primarily on artificial intelligence.',\n",
       " 'Microsoft I am of course referring to Mustafa Suleyman and Karen Simonyan, the co-founders of AI startup Inflection AI, which, up until recently, should have been competing against Microsoft&apos;s ward OpenAI but found itself with an offer (I assume) they could not refuse.',\n",
       " 'Yes, the very same Mustafa Suleyman who co-founded DeepMind Technologies and sold it to in 2014, will be leading Microsoft AI as its chief executive with the help of Karen Simonyan as the division&apos;s chief scientist.',\n",
       " 'Google Microsoft also seems to have hired &quot;several members&quot; of the Inflection team who have chosen to join Suleyman and Simonyan to advance the company&apos;s Copilot and other consumer AI products and research.',\n",
       " 'So what does Inflection AI get in return?',\n",
       " 'A whopping , apparently, and the prestige of working with Microsoft.',\n",
       " '$650 million That&apos;s a lot of money to pay to get your competitor out of the way keep OpenAI, and by extension, Sam Altman, , but as the world&apos;s most valuable company right now, Microsoft can probably get away with just about anything.',\n",
       " 'and in check Microsoft ranked #6 on HackerNoon&apos;s this week.',\n",
       " 'Google was on the #13 spot.',\n",
       " 'Tech Company Rankings Apple Pulls the Plug on In-House MicroLED Displays First the , now the smartwatch displays.',\n",
       " 'electric car In perhaps what is a period of realignment for , the company has on building its own smartwatch displays due to the cost and complexity involved.',\n",
       " 'Apple pulled the plug The microLED displays were due to be introduced in a future version of the Apple Watch and were part of a push to lower the company&apos;s reliance on partners, but it seems the company is no longer planning to design and develop that technology in house, maybe focusing instead on the newly launched (and confusingly reviewed) Apple Vision Pro(s).',\n",
       " 'As with the electric car, the decision to pull the plug will result in the elimination of job roles at the company.',\n",
       " 'Apple ranked #3 on HackerNoon&apos;s this week.',\n",
       " 'Tech Company Rankings In Other News.. 📰 SEC Seeks $1.95B Fine in Final Judgment Against Ripple — via CoinDesk AI is a data problem.',\n",
       " 'Cyera is raising up to $300M on a $1.5B valuation to secure it — via TechCrunch 3 ways Apple’s monopoly lawsuit could change the iPhone experience for fans — via CNN Musk&apos;s X Corp loses lawsuit against hate speech watchdog — via Reuters Meta&apos;s broad-brush ban on Islamic term harmed free speech, board rules — via Axios Adam Neumann makes a $500 million bid for WeWork that could hit $900 million if financing and diligence firm up — via CNBC And that&apos;s a wrap!',\n",
       " 'Don&apos;t forget to share this newsletter with your family and friends!',\n",
       " 'See y&apos;all next week.',\n",
       " 'PEACE!',\n",
       " '☮️ — Sheharyar Khan, Editor, Business Tech @ HackerNoon *All rankings are current as of Monday.',\n",
       " 'To see how the rankings have changed, please visit HackerNoon&apos;s page.',\n",
       " 'Tech Company Rankings']"
      ]
     },
     "execution_count": 70,
     "metadata": {},
     "output_type": "execute_result"
    }
   ],
   "source": [
    "tokenized_sentence"
   ]
  },
  {
   "cell_type": "code",
   "execution_count": 71,
   "metadata": {},
   "outputs": [],
   "source": [
    "tokenized_words_with_stopwords = word_tokenize(text)\n",
    "tokenized_words = [word for word in tokenized_words_with_stopwords if word not in Stopwords]\n",
    "tokenized_words = [word for word in tokenized_words if len(word) > 1]\n",
    "tokenized_words = [word.lower() for word in tokenized_words]\n",
    "tokenized_words = lemmatize_words(tokenized_words)"
   ]
  },
  {
   "cell_type": "code",
   "execution_count": 13,
   "metadata": {},
   "outputs": [],
   "source": [
    "def freq(words):\n",
    "    words = [word.lower() for word in words]\n",
    "    dict_freq = {}\n",
    "    words_unique = []\n",
    "    for word in words:\n",
    "       if word not in words_unique:\n",
    "           words_unique.append(word)\n",
    "    for word in words_unique:\n",
    "       dict_freq[word] = words.count(word)\n",
    "    return dict_freq\n"
   ]
  },
  {
   "cell_type": "code",
   "execution_count": 72,
   "metadata": {},
   "outputs": [
    {
     "name": "stdout",
     "output_type": "stream",
     "text": [
      "['nvidia', 'throw', 'gamers', 'under', 'bus', 'sheharyarkhan', 'hackernoon', 'editor', 'open', 'scoop', 'music', 'video', 'game', 'pop', 'culture', 'tech', 'if', 'ever', 'needed', 'proof', 'longer', 'company', 'think', 'look', 'companyaposs', 'recent', 'gpu', 'technology', 'conference', 'also', 'known', 'gtc', 'the', 'conference', 'chockfull', 'announcement', 'big', 'one', 'course', 'unveiling', 'blackwell', 'class', 'ai', 'chip', 'supposedly', 'going', 'better', 'widelyindemand', 'equally', 'expensive', 'hopper', 'processor', 'powered', 'like', 'openaiaposs', 'chatgpt', 'nvidia', 'it', 'demand', 'chip', 'transformed', 'nvidia', 'company', 'worth', 'trillion', 'almost', 'overnight', 'larger', 'scheme', 'thing', 'leading', 'including', 'hackernoon', 'whether', 'stock', 'bubble', 'almost', 'quarter', 'hackernoon', 'reader', 'thought', 'but', 'nvidia', 'prove', 'everyone', 'wrong', 'companyaposs', 'last', 'earnings', 'release', 'showed', 'still', 'selling', 'hopper', 'processor', 'selling', 'would', 'near', 'future', 'question', 'continue', 'which', 'brings', 'u', 'nvidia', 'gtc', 'nvidia', 'chief', 'executive', 'jensen', 'huang', 'steve', 'job', 'certainly', 'shareholdersapos', 'man', 'know', 'keep', 'happy', 'presentation', 'skill', 'damned', 'the', 'blackwell', 'announcement', 'may', 'nothing', 'akin', 'appleaposs', 'unveiling', 'first', 'iphone', 'boy', 'wall', 'street', 'go', 'crazy', 'and', 'crazy', 'come', 'worry', 'worry', 'monopoly', 'worry', 'supply', 'worry', 'company', 'may', 'producing', 'darn', 'ai', 'processor', 'fast', 'enough', 'but', 'nvidia', 'covid', 'demand', 'consumer', 'desperate', 'company', 'charge', 'whatever', 'price', 'want', 'hardware', 'lady', 'gentleman', 'future', 'tech', 'company', 'hoped', 'began', 'aggressively', 'hiring', 'worldwide', 'pandemic', 'find', 'demand', 'normalizing', 'world', 'opened', 'this', 'which', 'make', 'nvidia', 'quite', 'possibly', 'company', 'profiteered', 'consumer', 'pandemic', 'hit', 'even', 'bigger', 'jackpot', 'enterprise', 'because', 'face', 'chip', 'arenapost', 'everyday', 'consumer', 'theyaposre', 'faceless', 'corporation', 'dish', 'billion', 'needed', 'train', 'large', 'language', 'model', 'and', 'therein', 'lie', 'nvidiaaposs', 'success', 'you', 'see', 'day', 'gtc', 'began', 'jensen', 'huang', 'held', 'investor', 'tell', 'company', 'poised', 'win', 'large', 'chunk', 'billion', 'corporation', 'spend', 'building', 'maintaining', 'data', 'center', 'every', 'year', 'given', 'variety', 'hardware', 'software', 'nvidia', 'offer', 'meeting', 'now', 'well', 'good', 'company', 'thereaposs', 'one', 'stakeholder', 'hopelessly', 'missing', 'nvidiaaposs', 'future', 'plan', 'gamers', 'nvidia', 'never', 'really', 'started', 'artificial', 'intelligence', 'company', 'way', 'openai', 'many', 'others', 'like', 'it', 'started', 'company', 'produced', 'graphic', 'card', 'video', 'game', 'long', 'long', 'time', 'nvidia', 'known', 'but', 'offshoot', 'research', 'producing', 'better', 'better', 'graphic', 'card', 'ended', 'creating', 'tensor', 'core', 'realtime', 'deep', 'learning', 'image', 'enhancement', 'upscaling', 'technology', 'use', 'video', 'game', 'little', 'nvidia', 'know', 'technology', 'would', 'serve', 'backbone', 'llm', 'instantly', 'transforming', 'arm', 'dealer', 'choice', 'corporationsapos', 'pursuit', 'perfect', 'ai', 'nvidia', 'may', 'well', 'touch', 'root', 'thataposs', 'hardly', 'shareholder', 'care', 'and', 'nvidia', 'shareholder', 'donapost', 'care', 'gamers', 'nvidia', 'doesnapost', 'care', 'gamers', 'this', 'conference', 'launch', 'companyaposs', 'next', 'graphic', 'card', 'instantly', 'hijacked', 'talk', 'ai', 'itaposs', 'ai', 'intent', 'purpose', 'sell', 'some', 'may', 'call', 'apos', 'apos', 'iaposll', 'call', 'death', 'knell', 'nvidiaaposs', 'day', 'gamingfocused', 'company', 'woodstock', 'ai', 'youre', 'reading', 'hackernoonaposs', 'weekly', 'collection', 'tech', 'goodness', 'combine', 'hackernoonaposs', 'proprietary', 'data', 'internet', 'trend', 'determine', 'company', 'rising', 'falling', 'public', 'consciousness', 'subscribe', 'receive', 'newsletter', 'inbox', 'every', 'tuesday', 'tech', 'company', 'news', 'brief', 'complete', 'microsoft', 'pull', 'the', 'corporate', 'espionage', 'lifetime', 'how', 'kill', 'two', 'bird', 'one', 'stone', 'donapost', 'know', 'ask', 'satya', 'nadella', 'so', 'laserfocused', 'chief', 'executive', 'monopolizing', 'companyaposs', 'success', 'ai', 'decided', 'unthinkable', 'hire', 'competitoraposs', 'staff', 'hand', 'rein', 'newly', 'launched', 'division', 'focused', 'primarily', 'artificial', 'intelligence', 'microsoft', 'course', 'referring', 'mustafa', 'suleyman', 'karen', 'simonyan', 'cofounder', 'ai', 'startup', 'inflection', 'ai', 'recently', 'competing', 'microsoftaposs', 'ward', 'openai', 'found', 'offer', 'assume', 'could', 'refuse', 'yes', 'mustafa', 'suleyman', 'cofounded', 'deepmind', 'technology', 'sold', 'leading', 'microsoft', 'ai', 'chief', 'executive', 'help', 'karen', 'simonyan', 'divisionaposs', 'chief', 'scientist', 'google', 'microsoft', 'also', 'seems', 'hired', 'quotseveral', 'membersquot', 'inflection', 'team', 'chosen', 'join', 'suleyman', 'simonyan', 'advance', 'companyaposs', 'copilot', 'consumer', 'ai', 'product', 'research', 'so', 'inflection', 'ai', 'get', 'return', 'whopping', 'apparently', 'prestige', 'working', 'microsoft', 'million', 'thataposs', 'lot', 'money', 'pay', 'get', 'competitor', 'way', 'keep', 'openai', 'extension', 'sam', 'altman', 'worldaposs', 'valuable', 'company', 'right', 'microsoft', 'probably', 'get', 'away', 'anything', 'check', 'microsoft', 'ranked', 'hackernoonaposs', 'week', 'google', 'spot', 'tech', 'company', 'ranking', 'apple', 'pull', 'plug', 'inhouse', 'microled', 'display', 'first', 'smartwatch', 'display', 'electric', 'car', 'in', 'perhaps', 'period', 'realignment', 'company', 'building', 'smartwatch', 'display', 'due', 'cost', 'complexity', 'involved', 'apple', 'pulled', 'plug', 'the', 'microled', 'display', 'due', 'introduced', 'future', 'version', 'apple', 'watch', 'part', 'push', 'lower', 'companyaposs', 'reliance', 'partner', 'seems', 'company', 'longer', 'planning', 'design', 'develop', 'technology', 'house', 'maybe', 'focusing', 'instead', 'newly', 'launched', 'confusingly', 'reviewed', 'apple', 'vision', 'pro', 'a', 'electric', 'car', 'decision', 'pull', 'plug', 'result', 'elimination', 'job', 'role', 'company', 'apple', 'ranked', 'hackernoonaposs', 'week', 'tech', 'company', 'ranking', 'in', 'other', 'news', 'sec', 'seek', 'fine', 'final', 'judgment', 'against', 'ripple', 'via', 'coindesk', 'ai', 'data', 'problem', 'cyera', 'raising', 'valuation', 'secure', 'via', 'techcrunch', 'way', 'apple', 'monopoly', 'lawsuit', 'could', 'change', 'iphone', 'experience', 'fan', 'via', 'cnn', 'muskaposs', 'corp', 'loses', 'lawsuit', 'hate', 'speech', 'watchdog', 'via', 'reuters', 'metaaposs', 'broadbrush', 'ban', 'islamic', 'term', 'harmed', 'free', 'speech', 'board', 'rule', 'via', 'axios', 'adam', 'neumann', 'make', 'million', 'bid', 'wework', 'could', 'hit', 'million', 'financing', 'diligence', 'firm', 'via', 'cnbc', 'and', 'thataposs', 'wrap', 'donapost', 'forget', 'share', 'newsletter', 'family', 'friend', 'see', 'yaposall', 'next', 'week', 'peace', 'sheharyar', 'khan', 'editor', 'business', 'tech', 'hackernoon', 'all', 'ranking', 'current', 'monday', 'to', 'see', 'ranking', 'changed', 'please', 'visit', 'hackernoonaposs', 'page', 'tech', 'company', 'ranking']\n"
     ]
    }
   ],
   "source": [
    "print(tokenized_words)"
   ]
  },
  {
   "cell_type": "code",
   "execution_count": 73,
   "metadata": {},
   "outputs": [],
   "source": [
    "word_freq = freq(tokenized_words)\n",
    "input_user = int(input('Percentage of information to retain(in percent):'))\n",
    "no_of_sentences = int((input_user * len(tokenized_sentence))/100)"
   ]
  },
  {
   "cell_type": "code",
   "execution_count": 74,
   "metadata": {},
   "outputs": [
    {
     "name": "stdout",
     "output_type": "stream",
     "text": [
      "{'nvidia': 15, 'throw': 1, 'gamers': 4, 'under': 1, 'bus': 1, 'sheharyarkhan': 1, 'hackernoon': 4, 'editor': 2, 'open': 1, 'scoop': 1, 'music': 1, 'video': 3, 'game': 3, 'pop': 1, 'culture': 1, 'tech': 8, 'if': 1, 'ever': 1, 'needed': 2, 'proof': 1, 'longer': 2, 'company': 20, 'think': 1, 'look': 1, 'companyaposs': 6, 'recent': 1, 'gpu': 1, 'technology': 5, 'conference': 3, 'also': 2, 'known': 2, 'gtc': 3, 'the': 4, 'chockfull': 1, 'announcement': 2, 'big': 1, 'one': 3, 'course': 2, 'unveiling': 2, 'blackwell': 2, 'class': 1, 'ai': 13, 'chip': 3, 'supposedly': 1, 'going': 1, 'better': 3, 'widelyindemand': 1, 'equally': 1, 'expensive': 1, 'hopper': 2, 'processor': 3, 'powered': 1, 'like': 2, 'openaiaposs': 1, 'chatgpt': 1, 'it': 2, 'demand': 3, 'transformed': 1, 'worth': 1, 'trillion': 1, 'almost': 2, 'overnight': 1, 'larger': 1, 'scheme': 1, 'thing': 1, 'leading': 2, 'including': 1, 'whether': 1, 'stock': 1, 'bubble': 1, 'quarter': 1, 'reader': 1, 'thought': 1, 'but': 3, 'prove': 1, 'everyone': 1, 'wrong': 1, 'last': 1, 'earnings': 1, 'release': 1, 'showed': 1, 'still': 1, 'selling': 2, 'would': 2, 'near': 1, 'future': 4, 'question': 1, 'continue': 1, 'which': 2, 'brings': 1, 'u': 1, 'chief': 4, 'executive': 3, 'jensen': 2, 'huang': 2, 'steve': 1, 'job': 2, 'certainly': 1, 'shareholdersapos': 1, 'man': 1, 'know': 3, 'keep': 2, 'happy': 1, 'presentation': 1, 'skill': 1, 'damned': 1, 'may': 4, 'nothing': 1, 'akin': 1, 'appleaposs': 1, 'first': 2, 'iphone': 2, 'boy': 1, 'wall': 1, 'street': 1, 'go': 1, 'crazy': 2, 'and': 4, 'come': 1, 'worry': 4, 'monopoly': 2, 'supply': 1, 'producing': 2, 'darn': 1, 'fast': 1, 'enough': 1, 'covid': 1, 'consumer': 4, 'desperate': 1, 'charge': 1, 'whatever': 1, 'price': 1, 'want': 1, 'hardware': 2, 'lady': 1, 'gentleman': 1, 'hoped': 1, 'began': 2, 'aggressively': 1, 'hiring': 1, 'worldwide': 1, 'pandemic': 2, 'find': 1, 'normalizing': 1, 'world': 1, 'opened': 1, 'this': 2, 'make': 2, 'quite': 1, 'possibly': 1, 'profiteered': 1, 'hit': 2, 'even': 1, 'bigger': 1, 'jackpot': 1, 'enterprise': 1, 'because': 1, 'face': 1, 'arenapost': 1, 'everyday': 1, 'theyaposre': 1, 'faceless': 1, 'corporation': 2, 'dish': 1, 'billion': 2, 'train': 1, 'large': 2, 'language': 1, 'model': 1, 'therein': 1, 'lie': 1, 'nvidiaaposs': 3, 'success': 2, 'you': 1, 'see': 3, 'day': 2, 'held': 1, 'investor': 1, 'tell': 1, 'poised': 1, 'win': 1, 'chunk': 1, 'spend': 1, 'building': 2, 'maintaining': 1, 'data': 3, 'center': 1, 'every': 2, 'year': 1, 'given': 1, 'variety': 1, 'software': 1, 'offer': 2, 'meeting': 1, 'now': 1, 'well': 2, 'good': 1, 'thereaposs': 1, 'stakeholder': 1, 'hopelessly': 1, 'missing': 1, 'plan': 1, 'never': 1, 'really': 1, 'started': 2, 'artificial': 2, 'intelligence': 2, 'way': 3, 'openai': 3, 'many': 1, 'others': 1, 'produced': 1, 'graphic': 3, 'card': 3, 'long': 2, 'time': 1, 'offshoot': 1, 'research': 2, 'ended': 1, 'creating': 1, 'tensor': 1, 'core': 1, 'realtime': 1, 'deep': 1, 'learning': 1, 'image': 1, 'enhancement': 1, 'upscaling': 1, 'use': 1, 'little': 1, 'serve': 1, 'backbone': 1, 'llm': 1, 'instantly': 2, 'transforming': 1, 'arm': 1, 'dealer': 1, 'choice': 1, 'corporationsapos': 1, 'pursuit': 1, 'perfect': 1, 'touch': 1, 'root': 1, 'thataposs': 3, 'hardly': 1, 'shareholder': 2, 'care': 3, 'donapost': 3, 'doesnapost': 1, 'launch': 1, 'next': 2, 'hijacked': 1, 'talk': 1, 'itaposs': 1, 'intent': 1, 'purpose': 1, 'sell': 1, 'some': 1, 'call': 2, 'apos': 2, 'iaposll': 1, 'death': 1, 'knell': 1, 'gamingfocused': 1, 'woodstock': 1, 'youre': 1, 'reading': 1, 'hackernoonaposs': 5, 'weekly': 1, 'collection': 1, 'goodness': 1, 'combine': 1, 'proprietary': 1, 'internet': 1, 'trend': 1, 'determine': 1, 'rising': 1, 'falling': 1, 'public': 1, 'consciousness': 1, 'subscribe': 1, 'receive': 1, 'newsletter': 2, 'inbox': 1, 'tuesday': 1, 'news': 2, 'brief': 1, 'complete': 1, 'microsoft': 7, 'pull': 3, 'corporate': 1, 'espionage': 1, 'lifetime': 1, 'how': 1, 'kill': 1, 'two': 1, 'bird': 1, 'stone': 1, 'ask': 1, 'satya': 1, 'nadella': 1, 'so': 2, 'laserfocused': 1, 'monopolizing': 1, 'decided': 1, 'unthinkable': 1, 'hire': 1, 'competitoraposs': 1, 'staff': 1, 'hand': 1, 'rein': 1, 'newly': 2, 'launched': 2, 'division': 1, 'focused': 1, 'primarily': 1, 'referring': 1, 'mustafa': 2, 'suleyman': 3, 'karen': 2, 'simonyan': 3, 'cofounder': 1, 'startup': 1, 'inflection': 3, 'recently': 1, 'competing': 1, 'microsoftaposs': 1, 'ward': 1, 'found': 1, 'assume': 1, 'could': 3, 'refuse': 1, 'yes': 1, 'cofounded': 1, 'deepmind': 1, 'sold': 1, 'help': 1, 'divisionaposs': 1, 'scientist': 1, 'google': 2, 'seems': 2, 'hired': 1, 'quotseveral': 1, 'membersquot': 1, 'team': 1, 'chosen': 1, 'join': 1, 'advance': 1, 'copilot': 1, 'product': 1, 'get': 3, 'return': 1, 'whopping': 1, 'apparently': 1, 'prestige': 1, 'working': 1, 'million': 3, 'lot': 1, 'money': 1, 'pay': 1, 'competitor': 1, 'extension': 1, 'sam': 1, 'altman': 1, 'worldaposs': 1, 'valuable': 1, 'right': 1, 'probably': 1, 'away': 1, 'anything': 1, 'check': 1, 'ranked': 2, 'week': 3, 'spot': 1, 'ranking': 5, 'apple': 6, 'plug': 3, 'inhouse': 1, 'microled': 2, 'display': 4, 'smartwatch': 2, 'electric': 2, 'car': 2, 'in': 2, 'perhaps': 1, 'period': 1, 'realignment': 1, 'due': 2, 'cost': 1, 'complexity': 1, 'involved': 1, 'pulled': 1, 'introduced': 1, 'version': 1, 'watch': 1, 'part': 1, 'push': 1, 'lower': 1, 'reliance': 1, 'partner': 1, 'planning': 1, 'design': 1, 'develop': 1, 'house': 1, 'maybe': 1, 'focusing': 1, 'instead': 1, 'confusingly': 1, 'reviewed': 1, 'vision': 1, 'pro': 1, 'a': 1, 'decision': 1, 'result': 1, 'elimination': 1, 'role': 1, 'other': 1, 'sec': 1, 'seek': 1, 'fine': 1, 'final': 1, 'judgment': 1, 'against': 1, 'ripple': 1, 'via': 6, 'coindesk': 1, 'problem': 1, 'cyera': 1, 'raising': 1, 'valuation': 1, 'secure': 1, 'techcrunch': 1, 'lawsuit': 2, 'change': 1, 'experience': 1, 'fan': 1, 'cnn': 1, 'muskaposs': 1, 'corp': 1, 'loses': 1, 'hate': 1, 'speech': 2, 'watchdog': 1, 'reuters': 1, 'metaaposs': 1, 'broadbrush': 1, 'ban': 1, 'islamic': 1, 'term': 1, 'harmed': 1, 'free': 1, 'board': 1, 'rule': 1, 'axios': 1, 'adam': 1, 'neumann': 1, 'bid': 1, 'wework': 1, 'financing': 1, 'diligence': 1, 'firm': 1, 'cnbc': 1, 'wrap': 1, 'forget': 1, 'share': 1, 'family': 1, 'friend': 1, 'yaposall': 1, 'peace': 1, 'sheharyar': 1, 'khan': 1, 'business': 1, 'all': 1, 'current': 1, 'monday': 1, 'to': 1, 'changed': 1, 'please': 1, 'visit': 1, 'page': 1}\n"
     ]
    }
   ],
   "source": [
    "print(word_freq)"
   ]
  },
  {
   "cell_type": "code",
   "execution_count": 75,
   "metadata": {},
   "outputs": [
    {
     "data": {
      "text/plain": [
       "16"
      ]
     },
     "execution_count": 75,
     "metadata": {},
     "output_type": "execute_result"
    }
   ],
   "source": [
    "no_of_sentences"
   ]
  },
  {
   "cell_type": "code",
   "execution_count": 14,
   "metadata": {},
   "outputs": [],
   "source": [
    "def pos_tagging(text):\n",
    "    pos_tag = nltk.pos_tag(text.split())\n",
    "    pos_tagged_noun_verb = []\n",
    "    for word,tag in pos_tag:\n",
    "        if tag == \"NN\" or tag == \"NNP\" or tag == \"NNS\" or tag == \"VB\" or tag == \"VBD\" or tag == \"VBG\" or tag == \"VBN\" or tag == \"VBP\" or tag == \"VBZ\":\n",
    "             pos_tagged_noun_verb.append(word)\n",
    "    return pos_tagged_noun_verb"
   ]
  },
  {
   "cell_type": "code",
   "execution_count": 15,
   "metadata": {},
   "outputs": [],
   "source": [
    "def tf_score(word,sentence):\n",
    "    freq_sum = 0\n",
    "    word_frequency_in_sentence = 0\n",
    "    len_sentence = len(sentence)\n",
    "    for word_in_sentence in sentence.split():\n",
    "        if word == word_in_sentence:\n",
    "            word_frequency_in_sentence = word_frequency_in_sentence + 1\n",
    "    tf =  word_frequency_in_sentence/ len_sentence\n",
    "    return tf"
   ]
  },
  {
   "cell_type": "code",
   "execution_count": 16,
   "metadata": {},
   "outputs": [],
   "source": [
    "def idf_score(no_of_sentences,word,sentences):\n",
    "    no_of_sentence_containing_word = 0\n",
    "    for sentence in sentences:\n",
    "        sentence = remove_special_characters(str(sentence))\n",
    "        sentence = re.sub(r'\\d+', '', sentence)\n",
    "        sentence = sentence.split()\n",
    "        sentence = [word for word in sentence if word.lower() not in Stopwords and len(word)>1]\n",
    "        sentence = [word.lower() for word in sentence]\n",
    "        sentence = [wordlemmatizer.lemmatize(word) for word in sentence]\n",
    "        if word in sentence:\n",
    "            no_of_sentence_containing_word = no_of_sentence_containing_word + 1\n",
    "    idf = math.log10(no_of_sentences/no_of_sentence_containing_word)\n",
    "    return idf\n",
    "\n",
    "def tf_idf_score(tf,idf):\n",
    "    return tf*idf"
   ]
  },
  {
   "cell_type": "code",
   "execution_count": 32,
   "metadata": {},
   "outputs": [],
   "source": [
    "def word_tfidf(dict_freq,word,sentences,sentence):\n",
    "    word_tfidf = []\n",
    "    tf = tf_score(word,sentence)\n",
    "    idf = idf_score(len(sentences),word,sentences)\n",
    "    tf_idf = tf_idf_score(tf,idf)\n",
    "    return tf_idf"
   ]
  },
  {
   "cell_type": "code",
   "execution_count": 37,
   "metadata": {},
   "outputs": [],
   "source": [
    "def sentence_importance(sentence,dict_freq,sentences):\n",
    "     sentence_score = 0\n",
    "     sentence = remove_special_characters(str(sentence)) \n",
    "     sentence = re.sub(r'\\d+', '', sentence)\n",
    "     pos_tagged_sentence = [] \n",
    "     no_of_sentences = len(sentences)\n",
    "     pos_tagged_sentence = pos_tagging(sentence)\n",
    "     for word in pos_tagged_sentence:\n",
    "          if word.lower() not in Stopwords and word not in Stopwords and len(word)>1: \n",
    "                word = word.lower()\n",
    "                word = wordlemmatizer.lemmatize(word)\n",
    "                sentence_score = sentence_score + word_tfidf(dict_freq,word,sentences,sentence)\n",
    "     return sentence_score"
   ]
  },
  {
   "cell_type": "markdown",
   "metadata": {},
   "source": [
    "##### 6. Summarize Text"
   ]
  },
  {
   "cell_type": "code",
   "execution_count": 76,
   "metadata": {},
   "outputs": [],
   "source": [
    "c = 1\n",
    "sentence_with_importance = {}\n",
    "for sent in tokenized_sentence:\n",
    "    sentenceimp = sentence_importance(sent,word_freq,tokenized_sentence)    \n",
    "    sentence_with_importance[c] = sentenceimp    \n",
    "    c = c+1\n",
    "sentence_with_importance = sorted(sentence_with_importance.items(), key=operator.itemgetter(1),reverse=True)"
   ]
  },
  {
   "cell_type": "code",
   "execution_count": 77,
   "metadata": {},
   "outputs": [
    {
     "data": {
      "text/plain": [
       "[(32, 0.1684321913032775),\n",
       " (26, 0.1354303984185118),\n",
       " (49, 0.11124174943532762),\n",
       " (28, 0.10963537564720773),\n",
       " (19, 0.10466595934631223),\n",
       " (2, 0.09966499136188159),\n",
       " (46, 0.09792538955329808),\n",
       " (12, 0.09668681608301355),\n",
       " (50, 0.09652783713497093),\n",
       " (54, 0.09263327861796161),\n",
       " (15, 0.09177389492725727),\n",
       " (40, 0.0916598974965907),\n",
       " (18, 0.08832487175901407),\n",
       " (6, 0.08750629725480333),\n",
       " (44, 0.08627656553071968),\n",
       " (23, 0.08248770930771258),\n",
       " (45, 0.08091290472010906),\n",
       " (7, 0.08032443182281127),\n",
       " (39, 0.08032443182281127),\n",
       " (34, 0.0799466893411325),\n",
       " (38, 0.07949238458311267),\n",
       " (17, 0.07919692744354634),\n",
       " (30, 0.0780961598860119),\n",
       " (42, 0.07566794302148887),\n",
       " (41, 0.07530401386608623),\n",
       " (37, 0.07206240963506014),\n",
       " (29, 0.06906644678116737),\n",
       " (24, 0.06890167706431498),\n",
       " (36, 0.06633747831250109),\n",
       " (11, 0.06542421335592102),\n",
       " (47, 0.0643470030620201),\n",
       " (9, 0.06327932387611919),\n",
       " (22, 0.062015114578875825),\n",
       " (21, 0.05853335375703345),\n",
       " (51, 0.057420065217026424),\n",
       " (35, 0.057050015962576646),\n",
       " (5, 0.05512390521185185),\n",
       " (27, 0.05500076350861441),\n",
       " (8, 0.05185668797411874),\n",
       " (20, 0.04976521540280158),\n",
       " (1, 0.048177202777644035),\n",
       " (3, 0.04619604106898735),\n",
       " (4, 0.04554510734009335),\n",
       " (14, 0.04536049453029859),\n",
       " (10, 0.04378087300639544),\n",
       " (25, 0.04272054632787585),\n",
       " (16, 0.04057001974939004),\n",
       " (31, 0.026369131659003696),\n",
       " (48, 0.024823174580734093),\n",
       " (13, 0.02348331734575657),\n",
       " (43, 0.013084842671184205),\n",
       " (33, 0.0),\n",
       " (52, 0.0),\n",
       " (53, 0.0),\n",
       " (55, 0.0)]"
      ]
     },
     "execution_count": 77,
     "metadata": {},
     "output_type": "execute_result"
    }
   ],
   "source": [
    "sentence_with_importance"
   ]
  },
  {
   "cell_type": "code",
   "execution_count": 78,
   "metadata": {},
   "outputs": [
    {
     "data": {
      "text/plain": [
       "'Open to scoops on music, video games, pop culture, and tech.. But, as if Nvidia was out to prove everyone wrong, the company&apos;s last earnings release showed that not only was it still selling the Hopper processors, it was selling of them and would in the near future. Worry about supply. , ladies and gentlemen, is the future tech companies had hoped for when they began aggressively hiring during the worldwide pandemic only to find demand normalizing once the world opened up. And therein lies Nvidia&apos;s success. You see, just a day after the GTC began, Jensen Huang held a with investors to tell them the company was poised to win a large chunk of the $250 billion corporations spend on building and maintaining data centers every year given the variety of hardware and software Nvidia has on offer. But as an offshoot of all the research it did in producing better and better graphic cards, it ended up creating tensor cores for real-time deep learning image enhancement and upscaling technologies for use in video games. And if Nvidia shareholders don&apos;t care about the gamers, then Nvidia doesn&apos;t care about the gamers. should Some may call it the &apos; &apos;, but I&apos;ll call it what it is: the death knell of Nvidia&apos;s days as a gaming-focused company. I don&apos;t know. $650 million That&apos;s a lot of money to pay to get your competitor out of the way keep OpenAI, and by extension, Sam Altman, , but as the world&apos;s most valuable company right now, Microsoft can probably get away with just about anything. electric car In perhaps what is a period of realignment for , the company has on building its own smartwatch displays due to the cost and complexity involved. As with the electric car, the decision to pull the plug will result in the elimination of job roles at the company. Cyera is raising up to $300M on a $1.5B valuation to secure it — via TechCrunch 3 ways Apple’s monopoly lawsuit could change the iPhone experience for fans — via CNN Musk&apos;s X Corp loses lawsuit against hate speech watchdog — via Reuters Meta&apos;s broad-brush ban on Islamic term harmed free speech, board rules — via Axios Adam Neumann makes a $500 million bid for WeWork that could hit $900 million if financing and diligence firm up — via CNBC And that&apos;s a wrap! Don&apos;t forget to share this newsletter with your family and friends! To see how the rankings have changed, please visit HackerNoon&apos;s page.'"
      ]
     },
     "execution_count": 78,
     "metadata": {},
     "output_type": "execute_result"
    }
   ],
   "source": [
    "cnt = 0\n",
    "summary = []\n",
    "sentence_no = []\n",
    "for word_prob in sentence_with_importance:\n",
    "    if cnt < no_of_sentences:\n",
    "        sentence_no.append(word_prob[0])\n",
    "        cnt = cnt+1\n",
    "    else:\n",
    "      break\n",
    "sentence_no.sort()\n",
    "cnt = 1\n",
    "for sentence in tokenized_sentence:\n",
    "    if cnt in sentence_no:\n",
    "       summary.append(sentence)\n",
    "    cnt = cnt+1\n",
    "\n",
    "summary = \" \".join(summary)\n",
    "summary"
   ]
  },
  {
   "cell_type": "code",
   "execution_count": 79,
   "metadata": {},
   "outputs": [
    {
     "data": {
      "text/plain": [
       "(7685, 2450)"
      ]
     },
     "execution_count": 79,
     "metadata": {},
     "output_type": "execute_result"
    }
   ],
   "source": [
    "len(ARTICLE), len(summary)"
   ]
  },
  {
   "cell_type": "code",
   "execution_count": 80,
   "metadata": {},
   "outputs": [],
   "source": [
    "with open('summary.txt', 'w') as f:\n",
    "    f.write(summary)"
   ]
  }
 ],
 "metadata": {
  "kernelspec": {
   "display_name": "Python 3",
   "language": "python",
   "name": "python3"
  },
  "language_info": {
   "codemirror_mode": {
    "name": "ipython",
    "version": 3
   },
   "file_extension": ".py",
   "mimetype": "text/x-python",
   "name": "python",
   "nbconvert_exporter": "python",
   "pygments_lexer": "ipython3",
   "version": "3.8.19"
  }
 },
 "nbformat": 4,
 "nbformat_minor": 2
}
