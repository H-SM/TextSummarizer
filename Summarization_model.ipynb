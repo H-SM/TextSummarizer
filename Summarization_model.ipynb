{
 "cells": [
  {
   "cell_type": "markdown",
   "metadata": {},
   "source": [
    "### Text summarizer with Self trained model / function\n",
    "\n",
    "<!-- ![hugging face](https://www.thesoftwarereport.com/wp-content/uploads/2023/09/Hugging-Face2.png) -->\n",
    "Major Steps over covering the model \n",
    "- Scrape blog posts (medium, adobe) for net using beautiful soup \n",
    "- chunk them into sentences and summarize over these chunks (using the model to output over in text)"
   ]
  },
  {
   "cell_type": "markdown",
   "metadata": {},
   "source": [
    "##### 1. Importing Dependencies "
   ]
  },
  {
   "cell_type": "code",
   "execution_count": 132,
   "metadata": {},
   "outputs": [],
   "source": [
    "import nltk\n",
    "import os\n",
    "import re\n",
    "import math\n",
    "import operator\n",
    "from nltk.stem import WordNetLemmatizer\n",
    "from nltk.corpus import stopwords\n",
    "from nltk.tokenize import sent_tokenize,word_tokenize\n",
    "from bs4 import BeautifulSoup # scrap up blog post from the web \n",
    "import requests # make over http calls over to web (to scrap up a page)\n",
    "import json"
   ]
  },
  {
   "cell_type": "code",
   "execution_count": 133,
   "metadata": {},
   "outputs": [
    {
     "name": "stderr",
     "output_type": "stream",
     "text": [
      "[nltk_data] Downloading package punkt to\n",
      "[nltk_data]     C:\\Users\\Harman\\AppData\\Roaming\\nltk_data...\n",
      "[nltk_data]   Package punkt is already up-to-date!\n",
      "[nltk_data] Downloading package wordnet to\n",
      "[nltk_data]     C:\\Users\\Harman\\AppData\\Roaming\\nltk_data...\n",
      "[nltk_data]   Package wordnet is already up-to-date!\n",
      "[nltk_data] Downloading package averaged_perceptron_tagger to\n",
      "[nltk_data]     C:\\Users\\Harman\\AppData\\Roaming\\nltk_data...\n",
      "[nltk_data]   Package averaged_perceptron_tagger is already up-to-\n",
      "[nltk_data]       date!\n"
     ]
    }
   ],
   "source": [
    "nltk.download('punkt')\n",
    "nltk.download('wordnet')\n",
    "nltk.download('averaged_perceptron_tagger')\n",
    "Stopwords = set(stopwords.words('english'))\n",
    "wordlemmatizer = WordNetLemmatizer()"
   ]
  },
  {
   "cell_type": "markdown",
   "metadata": {},
   "source": [
    "##### 2. making web-scrapper"
   ]
  },
  {
   "cell_type": "code",
   "execution_count": 134,
   "metadata": {},
   "outputs": [],
   "source": [
    "# URL = \"https://hackernoon.com/simplifying-the-crazy-world-of-linux-distros\"\n",
    "URL = \"https://medium.com/@palashm0002/understanding-the-basics-of-natural-language-processing-nlp-52b67cf954cb\"\n",
    "# URL = \"https://hackernoon.com/nvidia-throws-gamers-under-the-bus\"\n",
    "# URL = \"https://hackernoon.com/the-eggs-destined-to-give-birth-to-queens\""
   ]
  },
  {
   "cell_type": "code",
   "execution_count": 135,
   "metadata": {},
   "outputs": [],
   "source": [
    "r = requests.get(URL)"
   ]
  },
  {
   "cell_type": "code",
   "execution_count": 136,
   "metadata": {},
   "outputs": [
    {
     "name": "stdout",
     "output_type": "stream",
     "text": [
      "\n"
     ]
    }
   ],
   "source": [
    "soup = BeautifulSoup(r.text, 'html.parser')\n",
    "results = soup.find_all(['h1', 'p'])\n",
    "text = [result.text for result in results]\n",
    "ARTICLE = ' '.join(text)\n",
    "script_tag = soup.find('script', type='application/ld+json')\n",
    "\n",
    "if script_tag:\n",
    "    # Parse JSON data\n",
    "    json_data = json.loads(script_tag.string)\n",
    "    \n",
    "    # Extract articleBody\n",
    "    article_body = json_data.get('articleBody', '')\n",
    "\n",
    "    print(article_body)\n",
    "\n",
    "    ARTICLE = ARTICLE +\". \" + article_body\n",
    "else:\n",
    "    print(\"JSON-LD script tag not found.\")"
   ]
  },
  {
   "cell_type": "code",
   "execution_count": 137,
   "metadata": {},
   "outputs": [
    {
     "name": "stdout",
     "output_type": "stream",
     "text": [
      "Sign up Sign in Sign up Sign in Understanding the Basics of Natural Language Processing (NLP) Palash Mishra Follow -- Listen Share Welcome to the fascinating world of Natural Language Processing (NLP)! NLP sits at the intersection of computer science, artificial intelligence, and linguistics, and it’s all about how computers can understand, interpret, and manipulate human language. This field is rapidly evolving, and its applications are vast, from search engines and voice assistants to sentiment analysis and machine translation. What is NLP? NLP involves a series of techniques designed to allow computers to process, analyze, and generate human language in a meaningful way. It’s not just about programming computers to understand the meaning of words; it’s about understanding context, tone, intent, and even the subtleties of humor and sarcasm. Key Concepts in NLP Tokenization This is the process of breaking text into individual terms or phrases. It can be as simple as splitting text based on spaces and punctuation, or as complex as understanding compound words and idioms. Part-of-Speech Tagging This involves labeling words in a sentence as nouns, verbs, adjectives, etc. This helps in understanding the grammatical structure of sentences and the role of each word. Named Entity Recognition (NER) NER identifies and classifies named entities present in text into predefined categories like names of people, organizations, locations, expressions of times, quantities, monetary values, etc. Sentiment Analysis This is about determining the attitude or emotion of the speaker or writer. It’s widely used in analyzing opinions in social media, customer reviews, and survey responses. Machine Translation Perhaps one of the most ambitious realms of NLP, machine translation is about translating text or speech from one language to another. Think Google Translate! Techniques and Algorithms Rule-Based Systems Earlier approaches in NLP were rule-based, where linguists would create hand-crafted rules to extract information from text. Statistical Methods The introduction of statistical methods marked a shift in NLP. Algorithms like Naive Bayes, Hidden Markov Models, and Conditional Random Fields were used to infer the structure of sentences and the meaning of words. Machine Learning and Deep Learning The current state-of-the-art in NLP is dominated by machine learning, particularly deep learning. Neural networks, especially Recurrent Neural Networks (RNNs) and Transformers, have revolutionized the field, offering remarkable improvements in language modeling, translation, and text generation. Challenges in NLP Despite tremendous advancements, NLP is not without its challenges. Language is inherently ambiguous and context-dependent. Idioms, sarcasm, and homonyms (words that sound alike but have different meanings) pose significant challenges. Moreover, language is always evolving, which requires NLP systems to continuously learn and adapt. Applications of NLP Today, NLP is everywhere: NLP is an incredibly dynamic and exciting field, offering endless possibilities. As we move towards more sophisticated AI, the importance of NLP will only grow, making it a critical field of study and research. Whether you are a student, a developer, or just an AI enthusiast, understanding the basics of NLP is crucial in navigating the future of technology. Keep exploring, learning, and stay tuned for more advancements in this remarkable field of artificial intelligence! -- -- Experienced FullStack Engineer and Machine Learning enthusiast with a passion for developing innovative web products and optimizing ML solutions. Help Status About Careers Blog Privacy Terms Text to speech Teams. \n"
     ]
    }
   ],
   "source": [
    "print(ARTICLE)"
   ]
  },
  {
   "cell_type": "markdown",
   "metadata": {},
   "source": [
    "#### 3. Text propressing - and implementing TFIDF "
   ]
  },
  {
   "cell_type": "code",
   "execution_count": 138,
   "metadata": {},
   "outputs": [],
   "source": [
    "def lemmatize_words(words):\n",
    "    lemmatized_words = []\n",
    "    for word in words:\n",
    "       lemmatized_words.append(wordlemmatizer.lemmatize(word))\n",
    "    return lemmatized_words"
   ]
  },
  {
   "cell_type": "code",
   "execution_count": 139,
   "metadata": {},
   "outputs": [],
   "source": [
    "def stem_words(words):\n",
    "    stemmed_words = []\n",
    "    for word in words:\n",
    "       stemmed_words.append(stemmer.stem(word))\n",
    "    return stemmed_words\n"
   ]
  },
  {
   "cell_type": "code",
   "execution_count": 140,
   "metadata": {},
   "outputs": [],
   "source": [
    "def remove_special_characters(text):\n",
    "    regex = r'[^a-zA-Z0-9\\s]'\n",
    "    text = re.sub(regex,'',text)\n",
    "    return text"
   ]
  },
  {
   "cell_type": "code",
   "execution_count": 141,
   "metadata": {},
   "outputs": [],
   "source": [
    "tokenized_sentence = sent_tokenize(ARTICLE)\n",
    "text = remove_special_characters(str(ARTICLE))\n",
    "text = re.sub(r'\\d+', '', text)"
   ]
  },
  {
   "cell_type": "code",
   "execution_count": 142,
   "metadata": {},
   "outputs": [
    {
     "data": {
      "text/plain": [
       "'Sign up Sign in Sign up Sign in Understanding the Basics of Natural Language Processing NLP Palash Mishra Follow  Listen Share Welcome to the fascinating world of Natural Language Processing NLP NLP sits at the intersection of computer science artificial intelligence and linguistics and its all about how computers can understand interpret and manipulate human language This field is rapidly evolving and its applications are vast from search engines and voice assistants to sentiment analysis and machine translation What is NLP NLP involves a series of techniques designed to allow computers to process analyze and generate human language in a meaningful way Its not just about programming computers to understand the meaning of words its about understanding context tone intent and even the subtleties of humor and sarcasm Key Concepts in NLP Tokenization This is the process of breaking text into individual terms or phrases It can be as simple as splitting text based on spaces and punctuation or as complex as understanding compound words and idioms PartofSpeech Tagging This involves labeling words in a sentence as nouns verbs adjectives etc This helps in understanding the grammatical structure of sentences and the role of each word Named Entity Recognition NER NER identifies and classifies named entities present in text into predefined categories like names of people organizations locations expressions of times quantities monetary values etc Sentiment Analysis This is about determining the attitude or emotion of the speaker or writer Its widely used in analyzing opinions in social media customer reviews and survey responses Machine Translation Perhaps one of the most ambitious realms of NLP machine translation is about translating text or speech from one language to another Think Google Translate Techniques and Algorithms RuleBased Systems Earlier approaches in NLP were rulebased where linguists would create handcrafted rules to extract information from text Statistical Methods The introduction of statistical methods marked a shift in NLP Algorithms like Naive Bayes Hidden Markov Models and Conditional Random Fields were used to infer the structure of sentences and the meaning of words Machine Learning and Deep Learning The current stateoftheart in NLP is dominated by machine learning particularly deep learning Neural networks especially Recurrent Neural Networks RNNs and Transformers have revolutionized the field offering remarkable improvements in language modeling translation and text generation Challenges in NLP Despite tremendous advancements NLP is not without its challenges Language is inherently ambiguous and contextdependent Idioms sarcasm and homonyms words that sound alike but have different meanings pose significant challenges Moreover language is always evolving which requires NLP systems to continuously learn and adapt Applications of NLP Today NLP is everywhere NLP is an incredibly dynamic and exciting field offering endless possibilities As we move towards more sophisticated AI the importance of NLP will only grow making it a critical field of study and research Whether you are a student a developer or just an AI enthusiast understanding the basics of NLP is crucial in navigating the future of technology Keep exploring learning and stay tuned for more advancements in this remarkable field of artificial intelligence   Experienced FullStack Engineer and Machine Learning enthusiast with a passion for developing innovative web products and optimizing ML solutions Help Status About Careers Blog Privacy Terms Text to speech Teams '"
      ]
     },
     "execution_count": 142,
     "metadata": {},
     "output_type": "execute_result"
    }
   ],
   "source": [
    "text"
   ]
  },
  {
   "cell_type": "code",
   "execution_count": 143,
   "metadata": {},
   "outputs": [
    {
     "data": {
      "text/plain": [
       "['Sign up Sign in Sign up Sign in Understanding the Basics of Natural Language Processing (NLP) Palash Mishra Follow -- Listen Share Welcome to the fascinating world of Natural Language Processing (NLP)!',\n",
       " 'NLP sits at the intersection of computer science, artificial intelligence, and linguistics, and it’s all about how computers can understand, interpret, and manipulate human language.',\n",
       " 'This field is rapidly evolving, and its applications are vast, from search engines and voice assistants to sentiment analysis and machine translation.',\n",
       " 'What is NLP?',\n",
       " 'NLP involves a series of techniques designed to allow computers to process, analyze, and generate human language in a meaningful way.',\n",
       " 'It’s not just about programming computers to understand the meaning of words; it’s about understanding context, tone, intent, and even the subtleties of humor and sarcasm.',\n",
       " 'Key Concepts in NLP Tokenization This is the process of breaking text into individual terms or phrases.',\n",
       " 'It can be as simple as splitting text based on spaces and punctuation, or as complex as understanding compound words and idioms.',\n",
       " 'Part-of-Speech Tagging This involves labeling words in a sentence as nouns, verbs, adjectives, etc.',\n",
       " 'This helps in understanding the grammatical structure of sentences and the role of each word.',\n",
       " 'Named Entity Recognition (NER) NER identifies and classifies named entities present in text into predefined categories like names of people, organizations, locations, expressions of times, quantities, monetary values, etc.',\n",
       " 'Sentiment Analysis This is about determining the attitude or emotion of the speaker or writer.',\n",
       " 'It’s widely used in analyzing opinions in social media, customer reviews, and survey responses.',\n",
       " 'Machine Translation Perhaps one of the most ambitious realms of NLP, machine translation is about translating text or speech from one language to another.',\n",
       " 'Think Google Translate!',\n",
       " 'Techniques and Algorithms Rule-Based Systems Earlier approaches in NLP were rule-based, where linguists would create hand-crafted rules to extract information from text.',\n",
       " 'Statistical Methods The introduction of statistical methods marked a shift in NLP.',\n",
       " 'Algorithms like Naive Bayes, Hidden Markov Models, and Conditional Random Fields were used to infer the structure of sentences and the meaning of words.',\n",
       " 'Machine Learning and Deep Learning The current state-of-the-art in NLP is dominated by machine learning, particularly deep learning.',\n",
       " 'Neural networks, especially Recurrent Neural Networks (RNNs) and Transformers, have revolutionized the field, offering remarkable improvements in language modeling, translation, and text generation.',\n",
       " 'Challenges in NLP Despite tremendous advancements, NLP is not without its challenges.',\n",
       " 'Language is inherently ambiguous and context-dependent.',\n",
       " 'Idioms, sarcasm, and homonyms (words that sound alike but have different meanings) pose significant challenges.',\n",
       " 'Moreover, language is always evolving, which requires NLP systems to continuously learn and adapt.',\n",
       " 'Applications of NLP Today, NLP is everywhere: NLP is an incredibly dynamic and exciting field, offering endless possibilities.',\n",
       " 'As we move towards more sophisticated AI, the importance of NLP will only grow, making it a critical field of study and research.',\n",
       " 'Whether you are a student, a developer, or just an AI enthusiast, understanding the basics of NLP is crucial in navigating the future of technology.',\n",
       " 'Keep exploring, learning, and stay tuned for more advancements in this remarkable field of artificial intelligence!',\n",
       " '-- -- Experienced FullStack Engineer and Machine Learning enthusiast with a passion for developing innovative web products and optimizing ML solutions.',\n",
       " 'Help Status About Careers Blog Privacy Terms Text to speech Teams.']"
      ]
     },
     "execution_count": 143,
     "metadata": {},
     "output_type": "execute_result"
    }
   ],
   "source": [
    "tokenized_sentence"
   ]
  },
  {
   "cell_type": "code",
   "execution_count": 144,
   "metadata": {},
   "outputs": [],
   "source": [
    "tokenized_words_with_stopwords = word_tokenize(text)\n",
    "tokenized_words = [word for word in tokenized_words_with_stopwords if word not in Stopwords]\n",
    "tokenized_words = [word for word in tokenized_words if len(word) > 1]\n",
    "tokenized_words = [word.lower() for word in tokenized_words]\n",
    "tokenized_words = lemmatize_words(tokenized_words)"
   ]
  },
  {
   "cell_type": "code",
   "execution_count": 145,
   "metadata": {},
   "outputs": [],
   "source": [
    "def freq(words):\n",
    "    words = [word.lower() for word in words]\n",
    "    dict_freq = {}\n",
    "    words_unique = []\n",
    "    for word in words:\n",
    "       if word not in words_unique:\n",
    "           words_unique.append(word)\n",
    "    for word in words_unique:\n",
    "       dict_freq[word] = words.count(word)\n",
    "    return dict_freq\n"
   ]
  },
  {
   "cell_type": "code",
   "execution_count": 146,
   "metadata": {},
   "outputs": [
    {
     "name": "stdout",
     "output_type": "stream",
     "text": [
      "['sign', 'sign', 'sign', 'sign', 'understanding', 'basic', 'natural', 'language', 'processing', 'nlp', 'palash', 'mishra', 'follow', 'listen', 'share', 'welcome', 'fascinating', 'world', 'natural', 'language', 'processing', 'nlp', 'nlp', 'sits', 'intersection', 'computer', 'science', 'artificial', 'intelligence', 'linguistics', 'computer', 'understand', 'interpret', 'manipulate', 'human', 'language', 'this', 'field', 'rapidly', 'evolving', 'application', 'vast', 'search', 'engine', 'voice', 'assistant', 'sentiment', 'analysis', 'machine', 'translation', 'what', 'nlp', 'nlp', 'involves', 'series', 'technique', 'designed', 'allow', 'computer', 'process', 'analyze', 'generate', 'human', 'language', 'meaningful', 'way', 'it', 'programming', 'computer', 'understand', 'meaning', 'word', 'understanding', 'context', 'tone', 'intent', 'even', 'subtlety', 'humor', 'sarcasm', 'key', 'concept', 'nlp', 'tokenization', 'this', 'process', 'breaking', 'text', 'individual', 'term', 'phrase', 'it', 'simple', 'splitting', 'text', 'based', 'space', 'punctuation', 'complex', 'understanding', 'compound', 'word', 'idiom', 'partofspeech', 'tagging', 'this', 'involves', 'labeling', 'word', 'sentence', 'noun', 'verb', 'adjective', 'etc', 'this', 'help', 'understanding', 'grammatical', 'structure', 'sentence', 'role', 'word', 'named', 'entity', 'recognition', 'ner', 'ner', 'identifies', 'classifies', 'named', 'entity', 'present', 'text', 'predefined', 'category', 'like', 'name', 'people', 'organization', 'location', 'expression', 'time', 'quantity', 'monetary', 'value', 'etc', 'sentiment', 'analysis', 'this', 'determining', 'attitude', 'emotion', 'speaker', 'writer', 'it', 'widely', 'used', 'analyzing', 'opinion', 'social', 'medium', 'customer', 'review', 'survey', 'response', 'machine', 'translation', 'perhaps', 'one', 'ambitious', 'realm', 'nlp', 'machine', 'translation', 'translating', 'text', 'speech', 'one', 'language', 'another', 'think', 'google', 'translate', 'technique', 'algorithm', 'rulebased', 'system', 'earlier', 'approach', 'nlp', 'rulebased', 'linguist', 'would', 'create', 'handcrafted', 'rule', 'extract', 'information', 'text', 'statistical', 'method', 'the', 'introduction', 'statistical', 'method', 'marked', 'shift', 'nlp', 'algorithm', 'like', 'naive', 'bayes', 'hidden', 'markov', 'model', 'conditional', 'random', 'field', 'used', 'infer', 'structure', 'sentence', 'meaning', 'word', 'machine', 'learning', 'deep', 'learning', 'the', 'current', 'stateoftheart', 'nlp', 'dominated', 'machine', 'learning', 'particularly', 'deep', 'learning', 'neural', 'network', 'especially', 'recurrent', 'neural', 'network', 'rnns', 'transformer', 'revolutionized', 'field', 'offering', 'remarkable', 'improvement', 'language', 'modeling', 'translation', 'text', 'generation', 'challenge', 'nlp', 'despite', 'tremendous', 'advancement', 'nlp', 'without', 'challenge', 'language', 'inherently', 'ambiguous', 'contextdependent', 'idiom', 'sarcasm', 'homonym', 'word', 'sound', 'alike', 'different', 'meaning', 'pose', 'significant', 'challenge', 'moreover', 'language', 'always', 'evolving', 'requires', 'nlp', 'system', 'continuously', 'learn', 'adapt', 'application', 'nlp', 'today', 'nlp', 'everywhere', 'nlp', 'incredibly', 'dynamic', 'exciting', 'field', 'offering', 'endless', 'possibility', 'a', 'move', 'towards', 'sophisticated', 'ai', 'importance', 'nlp', 'grow', 'making', 'critical', 'field', 'study', 'research', 'whether', 'student', 'developer', 'ai', 'enthusiast', 'understanding', 'basic', 'nlp', 'crucial', 'navigating', 'future', 'technology', 'keep', 'exploring', 'learning', 'stay', 'tuned', 'advancement', 'remarkable', 'field', 'artificial', 'intelligence', 'experienced', 'fullstack', 'engineer', 'machine', 'learning', 'enthusiast', 'passion', 'developing', 'innovative', 'web', 'product', 'optimizing', 'ml', 'solution', 'help', 'status', 'about', 'career', 'blog', 'privacy', 'term', 'text', 'speech', 'team']\n"
     ]
    }
   ],
   "source": [
    "print(tokenized_words)"
   ]
  },
  {
   "cell_type": "code",
   "execution_count": 147,
   "metadata": {},
   "outputs": [],
   "source": [
    "word_freq = freq(tokenized_words)\n",
    "input_user = int(input('Percentage of information to retain(in percent):'))\n",
    "no_of_sentences = int((input_user * len(tokenized_sentence))/100)"
   ]
  },
  {
   "cell_type": "code",
   "execution_count": 148,
   "metadata": {},
   "outputs": [
    {
     "name": "stdout",
     "output_type": "stream",
     "text": [
      "{'sign': 4, 'understanding': 5, 'basic': 2, 'natural': 2, 'language': 8, 'processing': 2, 'nlp': 18, 'palash': 1, 'mishra': 1, 'follow': 1, 'listen': 1, 'share': 1, 'welcome': 1, 'fascinating': 1, 'world': 1, 'sits': 1, 'intersection': 1, 'computer': 4, 'science': 1, 'artificial': 2, 'intelligence': 2, 'linguistics': 1, 'understand': 2, 'interpret': 1, 'manipulate': 1, 'human': 2, 'this': 5, 'field': 6, 'rapidly': 1, 'evolving': 2, 'application': 2, 'vast': 1, 'search': 1, 'engine': 1, 'voice': 1, 'assistant': 1, 'sentiment': 2, 'analysis': 2, 'machine': 6, 'translation': 4, 'what': 1, 'involves': 2, 'series': 1, 'technique': 2, 'designed': 1, 'allow': 1, 'process': 2, 'analyze': 1, 'generate': 1, 'meaningful': 1, 'way': 1, 'it': 3, 'programming': 1, 'meaning': 3, 'word': 6, 'context': 1, 'tone': 1, 'intent': 1, 'even': 1, 'subtlety': 1, 'humor': 1, 'sarcasm': 2, 'key': 1, 'concept': 1, 'tokenization': 1, 'breaking': 1, 'text': 7, 'individual': 1, 'term': 2, 'phrase': 1, 'simple': 1, 'splitting': 1, 'based': 1, 'space': 1, 'punctuation': 1, 'complex': 1, 'compound': 1, 'idiom': 2, 'partofspeech': 1, 'tagging': 1, 'labeling': 1, 'sentence': 3, 'noun': 1, 'verb': 1, 'adjective': 1, 'etc': 2, 'help': 2, 'grammatical': 1, 'structure': 2, 'role': 1, 'named': 2, 'entity': 2, 'recognition': 1, 'ner': 2, 'identifies': 1, 'classifies': 1, 'present': 1, 'predefined': 1, 'category': 1, 'like': 2, 'name': 1, 'people': 1, 'organization': 1, 'location': 1, 'expression': 1, 'time': 1, 'quantity': 1, 'monetary': 1, 'value': 1, 'determining': 1, 'attitude': 1, 'emotion': 1, 'speaker': 1, 'writer': 1, 'widely': 1, 'used': 2, 'analyzing': 1, 'opinion': 1, 'social': 1, 'medium': 1, 'customer': 1, 'review': 1, 'survey': 1, 'response': 1, 'perhaps': 1, 'one': 2, 'ambitious': 1, 'realm': 1, 'translating': 1, 'speech': 2, 'another': 1, 'think': 1, 'google': 1, 'translate': 1, 'algorithm': 2, 'rulebased': 2, 'system': 2, 'earlier': 1, 'approach': 1, 'linguist': 1, 'would': 1, 'create': 1, 'handcrafted': 1, 'rule': 1, 'extract': 1, 'information': 1, 'statistical': 2, 'method': 2, 'the': 2, 'introduction': 1, 'marked': 1, 'shift': 1, 'naive': 1, 'bayes': 1, 'hidden': 1, 'markov': 1, 'model': 1, 'conditional': 1, 'random': 1, 'infer': 1, 'learning': 6, 'deep': 2, 'current': 1, 'stateoftheart': 1, 'dominated': 1, 'particularly': 1, 'neural': 2, 'network': 2, 'especially': 1, 'recurrent': 1, 'rnns': 1, 'transformer': 1, 'revolutionized': 1, 'offering': 2, 'remarkable': 2, 'improvement': 1, 'modeling': 1, 'generation': 1, 'challenge': 3, 'despite': 1, 'tremendous': 1, 'advancement': 2, 'without': 1, 'inherently': 1, 'ambiguous': 1, 'contextdependent': 1, 'homonym': 1, 'sound': 1, 'alike': 1, 'different': 1, 'pose': 1, 'significant': 1, 'moreover': 1, 'always': 1, 'requires': 1, 'continuously': 1, 'learn': 1, 'adapt': 1, 'today': 1, 'everywhere': 1, 'incredibly': 1, 'dynamic': 1, 'exciting': 1, 'endless': 1, 'possibility': 1, 'a': 1, 'move': 1, 'towards': 1, 'sophisticated': 1, 'ai': 2, 'importance': 1, 'grow': 1, 'making': 1, 'critical': 1, 'study': 1, 'research': 1, 'whether': 1, 'student': 1, 'developer': 1, 'enthusiast': 2, 'crucial': 1, 'navigating': 1, 'future': 1, 'technology': 1, 'keep': 1, 'exploring': 1, 'stay': 1, 'tuned': 1, 'experienced': 1, 'fullstack': 1, 'engineer': 1, 'passion': 1, 'developing': 1, 'innovative': 1, 'web': 1, 'product': 1, 'optimizing': 1, 'ml': 1, 'solution': 1, 'status': 1, 'about': 1, 'career': 1, 'blog': 1, 'privacy': 1, 'team': 1}\n"
     ]
    }
   ],
   "source": [
    "print(word_freq)"
   ]
  },
  {
   "cell_type": "code",
   "execution_count": 149,
   "metadata": {},
   "outputs": [
    {
     "data": {
      "text/plain": [
       "12"
      ]
     },
     "execution_count": 149,
     "metadata": {},
     "output_type": "execute_result"
    }
   ],
   "source": [
    "no_of_sentences"
   ]
  },
  {
   "cell_type": "code",
   "execution_count": 150,
   "metadata": {},
   "outputs": [],
   "source": [
    "def pos_tagging(text):\n",
    "    pos_tag = nltk.pos_tag(text.split())\n",
    "    pos_tagged_noun_verb = []\n",
    "    for word,tag in pos_tag:\n",
    "        if tag == \"NN\" or tag == \"NNP\" or tag == \"NNS\" or tag == \"VB\" or tag == \"VBD\" or tag == \"VBG\" or tag == \"VBN\" or tag == \"VBP\" or tag == \"VBZ\":\n",
    "             pos_tagged_noun_verb.append(word)\n",
    "    return pos_tagged_noun_verb"
   ]
  },
  {
   "cell_type": "code",
   "execution_count": 151,
   "metadata": {},
   "outputs": [],
   "source": [
    "def tf_score(word,sentence):\n",
    "    freq_sum = 0\n",
    "    word_frequency_in_sentence = 0\n",
    "    len_sentence = len(sentence)\n",
    "    for word_in_sentence in sentence.split():\n",
    "        if word == word_in_sentence:\n",
    "            word_frequency_in_sentence = word_frequency_in_sentence + 1\n",
    "    tf =  word_frequency_in_sentence/ len_sentence\n",
    "    return tf"
   ]
  },
  {
   "cell_type": "code",
   "execution_count": 152,
   "metadata": {},
   "outputs": [],
   "source": [
    "def idf_score(no_of_sentences,word,sentences):\n",
    "    no_of_sentence_containing_word = 0\n",
    "    for sentence in sentences:\n",
    "        sentence = remove_special_characters(str(sentence))\n",
    "        sentence = re.sub(r'\\d+', '', sentence)\n",
    "        sentence = sentence.split()\n",
    "        sentence = [word for word in sentence if word.lower() not in Stopwords and len(word)>1]\n",
    "        sentence = [word.lower() for word in sentence]\n",
    "        sentence = [wordlemmatizer.lemmatize(word) for word in sentence]\n",
    "        if word in sentence:\n",
    "            no_of_sentence_containing_word = no_of_sentence_containing_word + 1\n",
    "    idf = math.log10(no_of_sentences/no_of_sentence_containing_word)\n",
    "    return idf\n",
    "\n",
    "def tf_idf_score(tf,idf):\n",
    "    return tf*idf"
   ]
  },
  {
   "cell_type": "code",
   "execution_count": 153,
   "metadata": {},
   "outputs": [],
   "source": [
    "def word_tfidf(dict_freq,word,sentences,sentence):\n",
    "    word_tfidf = []\n",
    "    tf = tf_score(word,sentence)\n",
    "    idf = idf_score(len(sentences),word,sentences)\n",
    "    tf_idf = tf_idf_score(tf,idf)\n",
    "    return tf_idf"
   ]
  },
  {
   "cell_type": "code",
   "execution_count": 154,
   "metadata": {},
   "outputs": [],
   "source": [
    "def sentence_importance(sentence,dict_freq,sentences):\n",
    "     sentence_score = 0\n",
    "     sentence = remove_special_characters(str(sentence)) \n",
    "     sentence = re.sub(r'\\d+', '', sentence)\n",
    "     pos_tagged_sentence = [] \n",
    "     no_of_sentences = len(sentences)\n",
    "     pos_tagged_sentence = pos_tagging(sentence)\n",
    "     for word in pos_tagged_sentence:\n",
    "          if word.lower() not in Stopwords and word not in Stopwords and len(word)>1: \n",
    "                word = word.lower()\n",
    "                word = wordlemmatizer.lemmatize(word)\n",
    "                sentence_score = sentence_score + word_tfidf(dict_freq,word,sentences,sentence)\n",
    "     return sentence_score"
   ]
  },
  {
   "cell_type": "markdown",
   "metadata": {},
   "source": [
    "##### 6. Summarize Text"
   ]
  },
  {
   "cell_type": "code",
   "execution_count": 155,
   "metadata": {},
   "outputs": [],
   "source": [
    "c = 1\n",
    "sentence_with_importance = {}\n",
    "for sent in tokenized_sentence:\n",
    "    sentenceimp = sentence_importance(sent,word_freq,tokenized_sentence)    \n",
    "    sentence_with_importance[c] = sentenceimp    \n",
    "    c = c+1\n",
    "sentence_with_importance = sorted(sentence_with_importance.items(), key=operator.itemgetter(1),reverse=True)"
   ]
  },
  {
   "cell_type": "code",
   "execution_count": 156,
   "metadata": {},
   "outputs": [
    {
     "data": {
      "text/plain": [
       "[(19, 0.11166524638537312),\n",
       " (5, 0.09113025585488264),\n",
       " (12, 0.07941512122148722),\n",
       " (26, 0.07588648835439675),\n",
       " (28, 0.06523593774598828),\n",
       " (27, 0.06486006099331693),\n",
       " (2, 0.06224394715254525),\n",
       " (13, 0.06162038487049087),\n",
       " (3, 0.061609167036286314),\n",
       " (6, 0.06121230967910766),\n",
       " (8, 0.05808459907910871),\n",
       " (17, 0.05470819461924675),\n",
       " (9, 0.05192799755732286),\n",
       " (14, 0.05044329914453654),\n",
       " (24, 0.05013007350737276),\n",
       " (11, 0.05009784977501907),\n",
       " (16, 0.048887984684778764),\n",
       " (29, 0.048524495054344724),\n",
       " (20, 0.045107744510323684),\n",
       " (10, 0.04489493226625007),\n",
       " (23, 0.03896541291033025),\n",
       " (18, 0.032411434716986744),\n",
       " (7, 0.03220819341647793),\n",
       " (22, 0.027870212353201175),\n",
       " (30, 0.018093711677779713),\n",
       " (25, 0.015369354617964757),\n",
       " (1, 0.007614027086183826),\n",
       " (4, 0.0),\n",
       " (15, 0.0),\n",
       " (21, 0.0)]"
      ]
     },
     "execution_count": 156,
     "metadata": {},
     "output_type": "execute_result"
    }
   ],
   "source": [
    "sentence_with_importance"
   ]
  },
  {
   "cell_type": "code",
   "execution_count": 157,
   "metadata": {},
   "outputs": [
    {
     "data": {
      "text/plain": [
       "'NLP sits at the intersection of computer science, artificial intelligence, and linguistics, and it’s all about how computers can understand, interpret, and manipulate human language. This field is rapidly evolving, and its applications are vast, from search engines and voice assistants to sentiment analysis and machine translation. NLP involves a series of techniques designed to allow computers to process, analyze, and generate human language in a meaningful way. It’s not just about programming computers to understand the meaning of words; it’s about understanding context, tone, intent, and even the subtleties of humor and sarcasm. It can be as simple as splitting text based on spaces and punctuation, or as complex as understanding compound words and idioms. Sentiment Analysis This is about determining the attitude or emotion of the speaker or writer. It’s widely used in analyzing opinions in social media, customer reviews, and survey responses. Statistical Methods The introduction of statistical methods marked a shift in NLP. Machine Learning and Deep Learning The current state-of-the-art in NLP is dominated by machine learning, particularly deep learning. As we move towards more sophisticated AI, the importance of NLP will only grow, making it a critical field of study and research. Whether you are a student, a developer, or just an AI enthusiast, understanding the basics of NLP is crucial in navigating the future of technology. Keep exploring, learning, and stay tuned for more advancements in this remarkable field of artificial intelligence!'"
      ]
     },
     "execution_count": 157,
     "metadata": {},
     "output_type": "execute_result"
    }
   ],
   "source": [
    "cnt = 0\n",
    "summary = []\n",
    "sentence_no = []\n",
    "for word_prob in sentence_with_importance:\n",
    "    if cnt < no_of_sentences:\n",
    "        sentence_no.append(word_prob[0])\n",
    "        cnt = cnt+1\n",
    "    else:\n",
    "      break\n",
    "sentence_no.sort()\n",
    "cnt = 1\n",
    "for sentence in tokenized_sentence:\n",
    "    if cnt in sentence_no:\n",
    "       summary.append(sentence)\n",
    "    cnt = cnt+1\n",
    "\n",
    "summary = \" \".join(summary)\n",
    "# summary = summary.replace('&apos;s', '')\n",
    "summary = summary.replace('&apos;', \"'\")\n",
    "summary = summary.replace('&quot;', '\"')\n",
    "\n",
    "\n",
    "summary"
   ]
  },
  {
   "cell_type": "code",
   "execution_count": 158,
   "metadata": {},
   "outputs": [
    {
     "data": {
      "text/plain": [
       "(3707, 1570)"
      ]
     },
     "execution_count": 158,
     "metadata": {},
     "output_type": "execute_result"
    }
   ],
   "source": [
    "len(ARTICLE), len(summary)"
   ]
  },
  {
   "cell_type": "code",
   "execution_count": 159,
   "metadata": {},
   "outputs": [],
   "source": [
    "with open('summary.txt', 'w') as f:\n",
    "    f.write(summary)"
   ]
  }
 ],
 "metadata": {
  "kernelspec": {
   "display_name": "Python 3",
   "language": "python",
   "name": "python3"
  },
  "language_info": {
   "codemirror_mode": {
    "name": "ipython",
    "version": 3
   },
   "file_extension": ".py",
   "mimetype": "text/x-python",
   "name": "python",
   "nbconvert_exporter": "python",
   "pygments_lexer": "ipython3",
   "version": "3.8.19"
  }
 },
 "nbformat": 4,
 "nbformat_minor": 2
}
